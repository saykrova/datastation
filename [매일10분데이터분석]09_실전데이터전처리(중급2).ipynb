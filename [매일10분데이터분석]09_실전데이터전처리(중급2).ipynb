{
 "cells": [
  {
   "cell_type": "markdown",
   "metadata": {},
   "source": [
    "* 점포별 상품 판매량 추이 계산 "
   ]
  },
  {
   "cell_type": "code",
   "execution_count": 1,
   "metadata": {},
   "outputs": [],
   "source": [
    "import pandas as pd \n",
    "import numpy as np \n",
    "import seaborn as sns \n",
    "import matplotlib as mpl\n",
    "import matplotlib.pyplot as plt \n",
    "\n",
    "mpl.rc('font', family='Malgun Gothic')"
   ]
  },
  {
   "cell_type": "code",
   "execution_count": 2,
   "metadata": {},
   "outputs": [
    {
     "data": {
      "text/plain": [
       "(117, 646)"
      ]
     },
     "execution_count": 2,
     "metadata": {},
     "output_type": "execute_result"
    }
   ],
   "source": [
    "df1 = pd.read_csv('Data09.csv',encoding='cp949')\n",
    "df1.shape"
   ]
  },
  {
   "cell_type": "code",
   "execution_count": 3,
   "metadata": {
    "collapsed": true
   },
   "outputs": [
    {
     "data": {
      "text/plain": [
       "Index(['순번', '상품코드', '상품명', ' 합계', '(1154)의정부점', '(1155)별내점', '(1156)풍산점',\n",
       "       '(1157)김포한강점', '(1158)세종점', '(1159)킨텍스점',\n",
       "       ...\n",
       "       '(L21)위시티점', '(L23)걸포동점', '(L27)통일동산점', '(L35)성대점', '(L36)병점점',\n",
       "       '(L38)율전점', '(L39)본오점', '(L40)검암점', '(L44)신길점', '(L46)용호점'],\n",
       "      dtype='object', length=646)"
      ]
     },
     "execution_count": 3,
     "metadata": {},
     "output_type": "execute_result"
    }
   ],
   "source": [
    "df1.columns"
   ]
  },
  {
   "cell_type": "code",
   "execution_count": 4,
   "metadata": {
    "collapsed": true
   },
   "outputs": [
    {
     "data": {
      "text/html": [
       "<div>\n",
       "<style scoped>\n",
       "    .dataframe tbody tr th:only-of-type {\n",
       "        vertical-align: middle;\n",
       "    }\n",
       "\n",
       "    .dataframe tbody tr th {\n",
       "        vertical-align: top;\n",
       "    }\n",
       "\n",
       "    .dataframe thead th {\n",
       "        text-align: right;\n",
       "    }\n",
       "</style>\n",
       "<table border=\"1\" class=\"dataframe\">\n",
       "  <thead>\n",
       "    <tr style=\"text-align: right;\">\n",
       "      <th></th>\n",
       "      <th>순번</th>\n",
       "      <th>상품코드</th>\n",
       "      <th>상품명</th>\n",
       "      <th>합계</th>\n",
       "      <th>(1154)의정부점</th>\n",
       "      <th>(1155)별내점</th>\n",
       "      <th>(1156)풍산점</th>\n",
       "      <th>(1157)김포한강점</th>\n",
       "      <th>(1158)세종점</th>\n",
       "      <th>(1159)킨텍스점</th>\n",
       "      <th>...</th>\n",
       "      <th>(L21)위시티점</th>\n",
       "      <th>(L23)걸포동점</th>\n",
       "      <th>(L27)통일동산점</th>\n",
       "      <th>(L35)성대점</th>\n",
       "      <th>(L36)병점점</th>\n",
       "      <th>(L38)율전점</th>\n",
       "      <th>(L39)본오점</th>\n",
       "      <th>(L40)검암점</th>\n",
       "      <th>(L44)신길점</th>\n",
       "      <th>(L46)용호점</th>\n",
       "    </tr>\n",
       "  </thead>\n",
       "  <tbody>\n",
       "    <tr>\n",
       "      <th>0</th>\n",
       "      <td>NaN</td>\n",
       "      <td>NaN</td>\n",
       "      <td>NaN</td>\n",
       "      <td>수량</td>\n",
       "      <td>수량</td>\n",
       "      <td>수량</td>\n",
       "      <td>수량</td>\n",
       "      <td>수량</td>\n",
       "      <td>수량</td>\n",
       "      <td>수량</td>\n",
       "      <td>...</td>\n",
       "      <td>수량</td>\n",
       "      <td>수량</td>\n",
       "      <td>수량</td>\n",
       "      <td>수량</td>\n",
       "      <td>수량</td>\n",
       "      <td>수량</td>\n",
       "      <td>수량</td>\n",
       "      <td>수량</td>\n",
       "      <td>수량</td>\n",
       "      <td>수량</td>\n",
       "    </tr>\n",
       "    <tr>\n",
       "      <th>1</th>\n",
       "      <td>NaN</td>\n",
       "      <td>NaN</td>\n",
       "      <td>합 계</td>\n",
       "      <td>2,029,096</td>\n",
       "      <td>6,829</td>\n",
       "      <td>8,374</td>\n",
       "      <td>12,626</td>\n",
       "      <td>11,767</td>\n",
       "      <td>10,912</td>\n",
       "      <td>7,062</td>\n",
       "      <td>...</td>\n",
       "      <td>2,392</td>\n",
       "      <td>1,291</td>\n",
       "      <td>4,506</td>\n",
       "      <td>2,364</td>\n",
       "      <td>2,739</td>\n",
       "      <td>1,782</td>\n",
       "      <td>3,129</td>\n",
       "      <td>1,712</td>\n",
       "      <td>3,189</td>\n",
       "      <td>2,347</td>\n",
       "    </tr>\n",
       "    <tr>\n",
       "      <th>2</th>\n",
       "      <td>1.0</td>\n",
       "      <td>1801828.0</td>\n",
       "      <td>BW1 473ml캔(수입)</td>\n",
       "      <td>65,402</td>\n",
       "      <td>174</td>\n",
       "      <td>239</td>\n",
       "      <td>432</td>\n",
       "      <td>199</td>\n",
       "      <td>220</td>\n",
       "      <td>263</td>\n",
       "      <td>...</td>\n",
       "      <td>0</td>\n",
       "      <td>25</td>\n",
       "      <td>76</td>\n",
       "      <td>72</td>\n",
       "      <td>54</td>\n",
       "      <td>72</td>\n",
       "      <td>15</td>\n",
       "      <td>38</td>\n",
       "      <td>27</td>\n",
       "      <td>89</td>\n",
       "    </tr>\n",
       "    <tr>\n",
       "      <th>3</th>\n",
       "      <td>2.0</td>\n",
       "      <td>1801859.0</td>\n",
       "      <td>BW1 355ml (낱캔)</td>\n",
       "      <td>1</td>\n",
       "      <td>0</td>\n",
       "      <td>0</td>\n",
       "      <td>0</td>\n",
       "      <td>0</td>\n",
       "      <td>0</td>\n",
       "      <td>0</td>\n",
       "      <td>...</td>\n",
       "      <td>0</td>\n",
       "      <td>0</td>\n",
       "      <td>0</td>\n",
       "      <td>0</td>\n",
       "      <td>0</td>\n",
       "      <td>0</td>\n",
       "      <td>0</td>\n",
       "      <td>0</td>\n",
       "      <td>0</td>\n",
       "      <td>0</td>\n",
       "    </tr>\n",
       "    <tr>\n",
       "      <th>4</th>\n",
       "      <td>3.0</td>\n",
       "      <td>40786179.0</td>\n",
       "      <td>RB 500ml</td>\n",
       "      <td>2,158</td>\n",
       "      <td>4</td>\n",
       "      <td>9</td>\n",
       "      <td>10</td>\n",
       "      <td>27</td>\n",
       "      <td>0</td>\n",
       "      <td>11</td>\n",
       "      <td>...</td>\n",
       "      <td>0</td>\n",
       "      <td>0</td>\n",
       "      <td>0</td>\n",
       "      <td>0</td>\n",
       "      <td>0</td>\n",
       "      <td>0</td>\n",
       "      <td>0</td>\n",
       "      <td>0</td>\n",
       "      <td>0</td>\n",
       "      <td>0</td>\n",
       "    </tr>\n",
       "  </tbody>\n",
       "</table>\n",
       "<p>5 rows × 646 columns</p>\n",
       "</div>"
      ],
      "text/plain": [
       "    순번        상품코드             상품명         합계 (1154)의정부점 (1155)별내점 (1156)풍산점  \\\n",
       "0  NaN         NaN             NaN         수량         수량        수량        수량   \n",
       "1  NaN         NaN             합 계  2,029,096      6,829     8,374    12,626   \n",
       "2  1.0   1801828.0  BW1 473ml캔(수입)     65,402        174       239       432   \n",
       "3  2.0   1801859.0  BW1 355ml (낱캔)          1          0         0         0   \n",
       "4  3.0  40786179.0        RB 500ml      2,158          4         9        10   \n",
       "\n",
       "  (1157)김포한강점 (1158)세종점 (1159)킨텍스점  ... (L21)위시티점 (L23)걸포동점 (L27)통일동산점  \\\n",
       "0          수량        수량         수량  ...        수량        수량         수량   \n",
       "1      11,767    10,912      7,062  ...     2,392     1,291      4,506   \n",
       "2         199       220        263  ...         0        25         76   \n",
       "3           0         0          0  ...         0         0          0   \n",
       "4          27         0         11  ...         0         0          0   \n",
       "\n",
       "  (L35)성대점 (L36)병점점 (L38)율전점 (L39)본오점 (L40)검암점 (L44)신길점 (L46)용호점  \n",
       "0       수량       수량       수량       수량       수량       수량       수량  \n",
       "1    2,364    2,739    1,782    3,129    1,712    3,189    2,347  \n",
       "2       72       54       72       15       38       27       89  \n",
       "3        0        0        0        0        0        0        0  \n",
       "4        0        0        0        0        0        0        0  \n",
       "\n",
       "[5 rows x 646 columns]"
      ]
     },
     "execution_count": 4,
     "metadata": {},
     "output_type": "execute_result"
    }
   ],
   "source": [
    "df1.head()"
   ]
  },
  {
   "cell_type": "code",
   "execution_count": 5,
   "metadata": {
    "collapsed": true
   },
   "outputs": [
    {
     "data": {
      "text/html": [
       "<div>\n",
       "<style scoped>\n",
       "    .dataframe tbody tr th:only-of-type {\n",
       "        vertical-align: middle;\n",
       "    }\n",
       "\n",
       "    .dataframe tbody tr th {\n",
       "        vertical-align: top;\n",
       "    }\n",
       "\n",
       "    .dataframe thead th {\n",
       "        text-align: right;\n",
       "    }\n",
       "</style>\n",
       "<table border=\"1\" class=\"dataframe\">\n",
       "  <thead>\n",
       "    <tr style=\"text-align: right;\">\n",
       "      <th></th>\n",
       "      <th>상품명</th>\n",
       "      <th>합계</th>\n",
       "      <th>(1154)의정부점</th>\n",
       "      <th>(1155)별내점</th>\n",
       "      <th>(1156)풍산점</th>\n",
       "      <th>(1157)김포한강점</th>\n",
       "      <th>(1158)세종점</th>\n",
       "      <th>(1159)킨텍스점</th>\n",
       "      <th>(1160)광교점</th>\n",
       "      <th>(1161)과천점</th>\n",
       "      <th>...</th>\n",
       "      <th>(L21)위시티점</th>\n",
       "      <th>(L23)걸포동점</th>\n",
       "      <th>(L27)통일동산점</th>\n",
       "      <th>(L35)성대점</th>\n",
       "      <th>(L36)병점점</th>\n",
       "      <th>(L38)율전점</th>\n",
       "      <th>(L39)본오점</th>\n",
       "      <th>(L40)검암점</th>\n",
       "      <th>(L44)신길점</th>\n",
       "      <th>(L46)용호점</th>\n",
       "    </tr>\n",
       "  </thead>\n",
       "  <tbody>\n",
       "    <tr>\n",
       "      <th>0</th>\n",
       "      <td>NaN</td>\n",
       "      <td>수량</td>\n",
       "      <td>수량</td>\n",
       "      <td>수량</td>\n",
       "      <td>수량</td>\n",
       "      <td>수량</td>\n",
       "      <td>수량</td>\n",
       "      <td>수량</td>\n",
       "      <td>수량</td>\n",
       "      <td>수량</td>\n",
       "      <td>...</td>\n",
       "      <td>수량</td>\n",
       "      <td>수량</td>\n",
       "      <td>수량</td>\n",
       "      <td>수량</td>\n",
       "      <td>수량</td>\n",
       "      <td>수량</td>\n",
       "      <td>수량</td>\n",
       "      <td>수량</td>\n",
       "      <td>수량</td>\n",
       "      <td>수량</td>\n",
       "    </tr>\n",
       "    <tr>\n",
       "      <th>1</th>\n",
       "      <td>합 계</td>\n",
       "      <td>2,029,096</td>\n",
       "      <td>6,829</td>\n",
       "      <td>8,374</td>\n",
       "      <td>12,626</td>\n",
       "      <td>11,767</td>\n",
       "      <td>10,912</td>\n",
       "      <td>7,062</td>\n",
       "      <td>11,666</td>\n",
       "      <td>2,928</td>\n",
       "      <td>...</td>\n",
       "      <td>2,392</td>\n",
       "      <td>1,291</td>\n",
       "      <td>4,506</td>\n",
       "      <td>2,364</td>\n",
       "      <td>2,739</td>\n",
       "      <td>1,782</td>\n",
       "      <td>3,129</td>\n",
       "      <td>1,712</td>\n",
       "      <td>3,189</td>\n",
       "      <td>2,347</td>\n",
       "    </tr>\n",
       "    <tr>\n",
       "      <th>2</th>\n",
       "      <td>BW1 473ml캔(수입)</td>\n",
       "      <td>65,402</td>\n",
       "      <td>174</td>\n",
       "      <td>239</td>\n",
       "      <td>432</td>\n",
       "      <td>199</td>\n",
       "      <td>220</td>\n",
       "      <td>263</td>\n",
       "      <td>234</td>\n",
       "      <td>78</td>\n",
       "      <td>...</td>\n",
       "      <td>0</td>\n",
       "      <td>25</td>\n",
       "      <td>76</td>\n",
       "      <td>72</td>\n",
       "      <td>54</td>\n",
       "      <td>72</td>\n",
       "      <td>15</td>\n",
       "      <td>38</td>\n",
       "      <td>27</td>\n",
       "      <td>89</td>\n",
       "    </tr>\n",
       "    <tr>\n",
       "      <th>3</th>\n",
       "      <td>BW1 355ml (낱캔)</td>\n",
       "      <td>1</td>\n",
       "      <td>0</td>\n",
       "      <td>0</td>\n",
       "      <td>0</td>\n",
       "      <td>0</td>\n",
       "      <td>0</td>\n",
       "      <td>0</td>\n",
       "      <td>0</td>\n",
       "      <td>0</td>\n",
       "      <td>...</td>\n",
       "      <td>0</td>\n",
       "      <td>0</td>\n",
       "      <td>0</td>\n",
       "      <td>0</td>\n",
       "      <td>0</td>\n",
       "      <td>0</td>\n",
       "      <td>0</td>\n",
       "      <td>0</td>\n",
       "      <td>0</td>\n",
       "      <td>0</td>\n",
       "    </tr>\n",
       "    <tr>\n",
       "      <th>4</th>\n",
       "      <td>RB 500ml</td>\n",
       "      <td>2,158</td>\n",
       "      <td>4</td>\n",
       "      <td>9</td>\n",
       "      <td>10</td>\n",
       "      <td>27</td>\n",
       "      <td>0</td>\n",
       "      <td>11</td>\n",
       "      <td>14</td>\n",
       "      <td>13</td>\n",
       "      <td>...</td>\n",
       "      <td>0</td>\n",
       "      <td>0</td>\n",
       "      <td>0</td>\n",
       "      <td>0</td>\n",
       "      <td>0</td>\n",
       "      <td>0</td>\n",
       "      <td>0</td>\n",
       "      <td>0</td>\n",
       "      <td>0</td>\n",
       "      <td>0</td>\n",
       "    </tr>\n",
       "    <tr>\n",
       "      <th>...</th>\n",
       "      <td>...</td>\n",
       "      <td>...</td>\n",
       "      <td>...</td>\n",
       "      <td>...</td>\n",
       "      <td>...</td>\n",
       "      <td>...</td>\n",
       "      <td>...</td>\n",
       "      <td>...</td>\n",
       "      <td>...</td>\n",
       "      <td>...</td>\n",
       "      <td>...</td>\n",
       "      <td>...</td>\n",
       "      <td>...</td>\n",
       "      <td>...</td>\n",
       "      <td>...</td>\n",
       "      <td>...</td>\n",
       "      <td>...</td>\n",
       "      <td>...</td>\n",
       "      <td>...</td>\n",
       "      <td>...</td>\n",
       "      <td>...</td>\n",
       "    </tr>\n",
       "    <tr>\n",
       "      <th>112</th>\n",
       "      <td>CAT1 355ml*12캔+카카오 에코백+치</td>\n",
       "      <td>179</td>\n",
       "      <td>0</td>\n",
       "      <td>9</td>\n",
       "      <td>0</td>\n",
       "      <td>0</td>\n",
       "      <td>0</td>\n",
       "      <td>0</td>\n",
       "      <td>0</td>\n",
       "      <td>0</td>\n",
       "      <td>...</td>\n",
       "      <td>0</td>\n",
       "      <td>0</td>\n",
       "      <td>0</td>\n",
       "      <td>0</td>\n",
       "      <td>0</td>\n",
       "      <td>0</td>\n",
       "      <td>0</td>\n",
       "      <td>0</td>\n",
       "      <td>0</td>\n",
       "      <td>0</td>\n",
       "    </tr>\n",
       "    <tr>\n",
       "      <th>113</th>\n",
       "      <td>CAT2 355*24캔 + 진라면 6캔</td>\n",
       "      <td>212</td>\n",
       "      <td>0</td>\n",
       "      <td>0</td>\n",
       "      <td>0</td>\n",
       "      <td>0</td>\n",
       "      <td>0</td>\n",
       "      <td>0</td>\n",
       "      <td>0</td>\n",
       "      <td>2</td>\n",
       "      <td>...</td>\n",
       "      <td>0</td>\n",
       "      <td>0</td>\n",
       "      <td>0</td>\n",
       "      <td>0</td>\n",
       "      <td>0</td>\n",
       "      <td>0</td>\n",
       "      <td>0</td>\n",
       "      <td>0</td>\n",
       "      <td>0</td>\n",
       "      <td>0</td>\n",
       "    </tr>\n",
       "    <tr>\n",
       "      <th>114</th>\n",
       "      <td>CAT2 1.6L*6</td>\n",
       "      <td>6,564</td>\n",
       "      <td>0</td>\n",
       "      <td>0</td>\n",
       "      <td>0</td>\n",
       "      <td>0</td>\n",
       "      <td>0</td>\n",
       "      <td>0</td>\n",
       "      <td>0</td>\n",
       "      <td>0</td>\n",
       "      <td>...</td>\n",
       "      <td>0</td>\n",
       "      <td>0</td>\n",
       "      <td>0</td>\n",
       "      <td>0</td>\n",
       "      <td>0</td>\n",
       "      <td>0</td>\n",
       "      <td>0</td>\n",
       "      <td>0</td>\n",
       "      <td>0</td>\n",
       "      <td>0</td>\n",
       "    </tr>\n",
       "    <tr>\n",
       "      <th>115</th>\n",
       "      <td>CAT2 1.6L</td>\n",
       "      <td>125,144</td>\n",
       "      <td>365</td>\n",
       "      <td>564</td>\n",
       "      <td>796</td>\n",
       "      <td>948</td>\n",
       "      <td>594</td>\n",
       "      <td>283</td>\n",
       "      <td>401</td>\n",
       "      <td>280</td>\n",
       "      <td>...</td>\n",
       "      <td>241</td>\n",
       "      <td>196</td>\n",
       "      <td>379</td>\n",
       "      <td>120</td>\n",
       "      <td>273</td>\n",
       "      <td>128</td>\n",
       "      <td>354</td>\n",
       "      <td>106</td>\n",
       "      <td>242</td>\n",
       "      <td>122</td>\n",
       "    </tr>\n",
       "    <tr>\n",
       "      <th>116</th>\n",
       "      <td>CAT1 1.6L</td>\n",
       "      <td>22,796</td>\n",
       "      <td>113</td>\n",
       "      <td>101</td>\n",
       "      <td>168</td>\n",
       "      <td>93</td>\n",
       "      <td>107</td>\n",
       "      <td>50</td>\n",
       "      <td>256</td>\n",
       "      <td>78</td>\n",
       "      <td>...</td>\n",
       "      <td>36</td>\n",
       "      <td>14</td>\n",
       "      <td>80</td>\n",
       "      <td>29</td>\n",
       "      <td>42</td>\n",
       "      <td>54</td>\n",
       "      <td>28</td>\n",
       "      <td>9</td>\n",
       "      <td>28</td>\n",
       "      <td>24</td>\n",
       "    </tr>\n",
       "  </tbody>\n",
       "</table>\n",
       "<p>117 rows × 644 columns</p>\n",
       "</div>"
      ],
      "text/plain": [
       "                          상품명         합계 (1154)의정부점 (1155)별내점 (1156)풍산점  \\\n",
       "0                         NaN         수량         수량        수량        수량   \n",
       "1                         합 계  2,029,096      6,829     8,374    12,626   \n",
       "2              BW1 473ml캔(수입)     65,402        174       239       432   \n",
       "3              BW1 355ml (낱캔)          1          0         0         0   \n",
       "4                    RB 500ml      2,158          4         9        10   \n",
       "..                        ...        ...        ...       ...       ...   \n",
       "112  CAT1 355ml*12캔+카카오 에코백+치        179          0         9         0   \n",
       "113     CAT2 355*24캔 + 진라면 6캔        212          0         0         0   \n",
       "114               CAT2 1.6L*6      6,564          0         0         0   \n",
       "115                 CAT2 1.6L    125,144        365       564       796   \n",
       "116                 CAT1 1.6L     22,796        113       101       168   \n",
       "\n",
       "    (1157)김포한강점 (1158)세종점 (1159)킨텍스점 (1160)광교점 (1161)과천점  ... (L21)위시티점  \\\n",
       "0            수량        수량         수량        수량        수량  ...        수량   \n",
       "1        11,767    10,912      7,062    11,666     2,928  ...     2,392   \n",
       "2           199       220        263       234        78  ...         0   \n",
       "3             0         0          0         0         0  ...         0   \n",
       "4            27         0         11        14        13  ...         0   \n",
       "..          ...       ...        ...       ...       ...  ...       ...   \n",
       "112           0         0          0         0         0  ...         0   \n",
       "113           0         0          0         0         2  ...         0   \n",
       "114           0         0          0         0         0  ...         0   \n",
       "115         948       594        283       401       280  ...       241   \n",
       "116          93       107         50       256        78  ...        36   \n",
       "\n",
       "    (L23)걸포동점 (L27)통일동산점 (L35)성대점 (L36)병점점 (L38)율전점 (L39)본오점 (L40)검암점  \\\n",
       "0          수량         수량       수량       수량       수량       수량       수량   \n",
       "1       1,291      4,506    2,364    2,739    1,782    3,129    1,712   \n",
       "2          25         76       72       54       72       15       38   \n",
       "3           0          0        0        0        0        0        0   \n",
       "4           0          0        0        0        0        0        0   \n",
       "..        ...        ...      ...      ...      ...      ...      ...   \n",
       "112         0          0        0        0        0        0        0   \n",
       "113         0          0        0        0        0        0        0   \n",
       "114         0          0        0        0        0        0        0   \n",
       "115       196        379      120      273      128      354      106   \n",
       "116        14         80       29       42       54       28        9   \n",
       "\n",
       "    (L44)신길점 (L46)용호점  \n",
       "0         수량       수량  \n",
       "1      3,189    2,347  \n",
       "2         27       89  \n",
       "3          0        0  \n",
       "4          0        0  \n",
       "..       ...      ...  \n",
       "112        0        0  \n",
       "113        0        0  \n",
       "114        0        0  \n",
       "115      242      122  \n",
       "116       28       24  \n",
       "\n",
       "[117 rows x 644 columns]"
      ]
     },
     "execution_count": 5,
     "metadata": {},
     "output_type": "execute_result"
    }
   ],
   "source": [
    "df1.drop(columns=['순번','상품코드'])"
   ]
  },
  {
   "cell_type": "code",
   "execution_count": 6,
   "metadata": {
    "collapsed": true
   },
   "outputs": [
    {
     "data": {
      "text/html": [
       "<div>\n",
       "<style scoped>\n",
       "    .dataframe tbody tr th:only-of-type {\n",
       "        vertical-align: middle;\n",
       "    }\n",
       "\n",
       "    .dataframe tbody tr th {\n",
       "        vertical-align: top;\n",
       "    }\n",
       "\n",
       "    .dataframe thead th {\n",
       "        text-align: right;\n",
       "    }\n",
       "</style>\n",
       "<table border=\"1\" class=\"dataframe\">\n",
       "  <thead>\n",
       "    <tr style=\"text-align: right;\">\n",
       "      <th></th>\n",
       "      <th>합계</th>\n",
       "      <th>(1154)의정부점</th>\n",
       "      <th>(1155)별내점</th>\n",
       "      <th>(1156)풍산점</th>\n",
       "      <th>(1157)김포한강점</th>\n",
       "      <th>(1158)세종점</th>\n",
       "      <th>(1159)킨텍스점</th>\n",
       "      <th>(1160)광교점</th>\n",
       "      <th>(1161)과천점</th>\n",
       "      <th>(1162)김해터미널점</th>\n",
       "      <th>...</th>\n",
       "      <th>(L21)위시티점</th>\n",
       "      <th>(L23)걸포동점</th>\n",
       "      <th>(L27)통일동산점</th>\n",
       "      <th>(L35)성대점</th>\n",
       "      <th>(L36)병점점</th>\n",
       "      <th>(L38)율전점</th>\n",
       "      <th>(L39)본오점</th>\n",
       "      <th>(L40)검암점</th>\n",
       "      <th>(L44)신길점</th>\n",
       "      <th>(L46)용호점</th>\n",
       "    </tr>\n",
       "    <tr>\n",
       "      <th>상품명</th>\n",
       "      <th></th>\n",
       "      <th></th>\n",
       "      <th></th>\n",
       "      <th></th>\n",
       "      <th></th>\n",
       "      <th></th>\n",
       "      <th></th>\n",
       "      <th></th>\n",
       "      <th></th>\n",
       "      <th></th>\n",
       "      <th></th>\n",
       "      <th></th>\n",
       "      <th></th>\n",
       "      <th></th>\n",
       "      <th></th>\n",
       "      <th></th>\n",
       "      <th></th>\n",
       "      <th></th>\n",
       "      <th></th>\n",
       "      <th></th>\n",
       "      <th></th>\n",
       "    </tr>\n",
       "  </thead>\n",
       "  <tbody>\n",
       "    <tr>\n",
       "      <th>NaN</th>\n",
       "      <td>수량</td>\n",
       "      <td>수량</td>\n",
       "      <td>수량</td>\n",
       "      <td>수량</td>\n",
       "      <td>수량</td>\n",
       "      <td>수량</td>\n",
       "      <td>수량</td>\n",
       "      <td>수량</td>\n",
       "      <td>수량</td>\n",
       "      <td>수량</td>\n",
       "      <td>...</td>\n",
       "      <td>수량</td>\n",
       "      <td>수량</td>\n",
       "      <td>수량</td>\n",
       "      <td>수량</td>\n",
       "      <td>수량</td>\n",
       "      <td>수량</td>\n",
       "      <td>수량</td>\n",
       "      <td>수량</td>\n",
       "      <td>수량</td>\n",
       "      <td>수량</td>\n",
       "    </tr>\n",
       "    <tr>\n",
       "      <th>합 계</th>\n",
       "      <td>2,029,096</td>\n",
       "      <td>6,829</td>\n",
       "      <td>8,374</td>\n",
       "      <td>12,626</td>\n",
       "      <td>11,767</td>\n",
       "      <td>10,912</td>\n",
       "      <td>7,062</td>\n",
       "      <td>11,666</td>\n",
       "      <td>2,928</td>\n",
       "      <td>7,712</td>\n",
       "      <td>...</td>\n",
       "      <td>2,392</td>\n",
       "      <td>1,291</td>\n",
       "      <td>4,506</td>\n",
       "      <td>2,364</td>\n",
       "      <td>2,739</td>\n",
       "      <td>1,782</td>\n",
       "      <td>3,129</td>\n",
       "      <td>1,712</td>\n",
       "      <td>3,189</td>\n",
       "      <td>2,347</td>\n",
       "    </tr>\n",
       "    <tr>\n",
       "      <th>BW1 473ml캔(수입)</th>\n",
       "      <td>65,402</td>\n",
       "      <td>174</td>\n",
       "      <td>239</td>\n",
       "      <td>432</td>\n",
       "      <td>199</td>\n",
       "      <td>220</td>\n",
       "      <td>263</td>\n",
       "      <td>234</td>\n",
       "      <td>78</td>\n",
       "      <td>1</td>\n",
       "      <td>...</td>\n",
       "      <td>0</td>\n",
       "      <td>25</td>\n",
       "      <td>76</td>\n",
       "      <td>72</td>\n",
       "      <td>54</td>\n",
       "      <td>72</td>\n",
       "      <td>15</td>\n",
       "      <td>38</td>\n",
       "      <td>27</td>\n",
       "      <td>89</td>\n",
       "    </tr>\n",
       "    <tr>\n",
       "      <th>BW1 355ml (낱캔)</th>\n",
       "      <td>1</td>\n",
       "      <td>0</td>\n",
       "      <td>0</td>\n",
       "      <td>0</td>\n",
       "      <td>0</td>\n",
       "      <td>0</td>\n",
       "      <td>0</td>\n",
       "      <td>0</td>\n",
       "      <td>0</td>\n",
       "      <td>0</td>\n",
       "      <td>...</td>\n",
       "      <td>0</td>\n",
       "      <td>0</td>\n",
       "      <td>0</td>\n",
       "      <td>0</td>\n",
       "      <td>0</td>\n",
       "      <td>0</td>\n",
       "      <td>0</td>\n",
       "      <td>0</td>\n",
       "      <td>0</td>\n",
       "      <td>0</td>\n",
       "    </tr>\n",
       "    <tr>\n",
       "      <th>RB 500ml</th>\n",
       "      <td>2,158</td>\n",
       "      <td>4</td>\n",
       "      <td>9</td>\n",
       "      <td>10</td>\n",
       "      <td>27</td>\n",
       "      <td>0</td>\n",
       "      <td>11</td>\n",
       "      <td>14</td>\n",
       "      <td>13</td>\n",
       "      <td>3</td>\n",
       "      <td>...</td>\n",
       "      <td>0</td>\n",
       "      <td>0</td>\n",
       "      <td>0</td>\n",
       "      <td>0</td>\n",
       "      <td>0</td>\n",
       "      <td>0</td>\n",
       "      <td>0</td>\n",
       "      <td>0</td>\n",
       "      <td>0</td>\n",
       "      <td>0</td>\n",
       "    </tr>\n",
       "    <tr>\n",
       "      <th>...</th>\n",
       "      <td>...</td>\n",
       "      <td>...</td>\n",
       "      <td>...</td>\n",
       "      <td>...</td>\n",
       "      <td>...</td>\n",
       "      <td>...</td>\n",
       "      <td>...</td>\n",
       "      <td>...</td>\n",
       "      <td>...</td>\n",
       "      <td>...</td>\n",
       "      <td>...</td>\n",
       "      <td>...</td>\n",
       "      <td>...</td>\n",
       "      <td>...</td>\n",
       "      <td>...</td>\n",
       "      <td>...</td>\n",
       "      <td>...</td>\n",
       "      <td>...</td>\n",
       "      <td>...</td>\n",
       "      <td>...</td>\n",
       "      <td>...</td>\n",
       "    </tr>\n",
       "    <tr>\n",
       "      <th>CAT1 355ml*12캔+카카오 에코백+치</th>\n",
       "      <td>179</td>\n",
       "      <td>0</td>\n",
       "      <td>9</td>\n",
       "      <td>0</td>\n",
       "      <td>0</td>\n",
       "      <td>0</td>\n",
       "      <td>0</td>\n",
       "      <td>0</td>\n",
       "      <td>0</td>\n",
       "      <td>0</td>\n",
       "      <td>...</td>\n",
       "      <td>0</td>\n",
       "      <td>0</td>\n",
       "      <td>0</td>\n",
       "      <td>0</td>\n",
       "      <td>0</td>\n",
       "      <td>0</td>\n",
       "      <td>0</td>\n",
       "      <td>0</td>\n",
       "      <td>0</td>\n",
       "      <td>0</td>\n",
       "    </tr>\n",
       "    <tr>\n",
       "      <th>CAT2 355*24캔 + 진라면 6캔</th>\n",
       "      <td>212</td>\n",
       "      <td>0</td>\n",
       "      <td>0</td>\n",
       "      <td>0</td>\n",
       "      <td>0</td>\n",
       "      <td>0</td>\n",
       "      <td>0</td>\n",
       "      <td>0</td>\n",
       "      <td>2</td>\n",
       "      <td>0</td>\n",
       "      <td>...</td>\n",
       "      <td>0</td>\n",
       "      <td>0</td>\n",
       "      <td>0</td>\n",
       "      <td>0</td>\n",
       "      <td>0</td>\n",
       "      <td>0</td>\n",
       "      <td>0</td>\n",
       "      <td>0</td>\n",
       "      <td>0</td>\n",
       "      <td>0</td>\n",
       "    </tr>\n",
       "    <tr>\n",
       "      <th>CAT2 1.6L*6</th>\n",
       "      <td>6,564</td>\n",
       "      <td>0</td>\n",
       "      <td>0</td>\n",
       "      <td>0</td>\n",
       "      <td>0</td>\n",
       "      <td>0</td>\n",
       "      <td>0</td>\n",
       "      <td>0</td>\n",
       "      <td>0</td>\n",
       "      <td>0</td>\n",
       "      <td>...</td>\n",
       "      <td>0</td>\n",
       "      <td>0</td>\n",
       "      <td>0</td>\n",
       "      <td>0</td>\n",
       "      <td>0</td>\n",
       "      <td>0</td>\n",
       "      <td>0</td>\n",
       "      <td>0</td>\n",
       "      <td>0</td>\n",
       "      <td>0</td>\n",
       "    </tr>\n",
       "    <tr>\n",
       "      <th>CAT2 1.6L</th>\n",
       "      <td>125,144</td>\n",
       "      <td>365</td>\n",
       "      <td>564</td>\n",
       "      <td>796</td>\n",
       "      <td>948</td>\n",
       "      <td>594</td>\n",
       "      <td>283</td>\n",
       "      <td>401</td>\n",
       "      <td>280</td>\n",
       "      <td>426</td>\n",
       "      <td>...</td>\n",
       "      <td>241</td>\n",
       "      <td>196</td>\n",
       "      <td>379</td>\n",
       "      <td>120</td>\n",
       "      <td>273</td>\n",
       "      <td>128</td>\n",
       "      <td>354</td>\n",
       "      <td>106</td>\n",
       "      <td>242</td>\n",
       "      <td>122</td>\n",
       "    </tr>\n",
       "    <tr>\n",
       "      <th>CAT1 1.6L</th>\n",
       "      <td>22,796</td>\n",
       "      <td>113</td>\n",
       "      <td>101</td>\n",
       "      <td>168</td>\n",
       "      <td>93</td>\n",
       "      <td>107</td>\n",
       "      <td>50</td>\n",
       "      <td>256</td>\n",
       "      <td>78</td>\n",
       "      <td>99</td>\n",
       "      <td>...</td>\n",
       "      <td>36</td>\n",
       "      <td>14</td>\n",
       "      <td>80</td>\n",
       "      <td>29</td>\n",
       "      <td>42</td>\n",
       "      <td>54</td>\n",
       "      <td>28</td>\n",
       "      <td>9</td>\n",
       "      <td>28</td>\n",
       "      <td>24</td>\n",
       "    </tr>\n",
       "  </tbody>\n",
       "</table>\n",
       "<p>117 rows × 643 columns</p>\n",
       "</div>"
      ],
      "text/plain": [
       "                                 합계 (1154)의정부점 (1155)별내점 (1156)풍산점  \\\n",
       "상품명                                                                  \n",
       "NaN                              수량         수량        수량        수량   \n",
       "합 계                       2,029,096      6,829     8,374    12,626   \n",
       "BW1 473ml캔(수입)               65,402        174       239       432   \n",
       "BW1 355ml (낱캔)                    1          0         0         0   \n",
       "RB 500ml                      2,158          4         9        10   \n",
       "...                             ...        ...       ...       ...   \n",
       "CAT1 355ml*12캔+카카오 에코백+치        179          0         9         0   \n",
       "CAT2 355*24캔 + 진라면 6캔           212          0         0         0   \n",
       "CAT2 1.6L*6                   6,564          0         0         0   \n",
       "CAT2 1.6L                   125,144        365       564       796   \n",
       "CAT1 1.6L                    22,796        113       101       168   \n",
       "\n",
       "                         (1157)김포한강점 (1158)세종점 (1159)킨텍스점 (1160)광교점 (1161)과천점  \\\n",
       "상품명                                                                             \n",
       "NaN                               수량        수량         수량        수량        수량   \n",
       "합 계                           11,767    10,912      7,062    11,666     2,928   \n",
       "BW1 473ml캔(수입)                   199       220        263       234        78   \n",
       "BW1 355ml (낱캔)                     0         0          0         0         0   \n",
       "RB 500ml                          27         0         11        14        13   \n",
       "...                              ...       ...        ...       ...       ...   \n",
       "CAT1 355ml*12캔+카카오 에코백+치           0         0          0         0         0   \n",
       "CAT2 355*24캔 + 진라면 6캔              0         0          0         0         2   \n",
       "CAT2 1.6L*6                        0         0          0         0         0   \n",
       "CAT2 1.6L                        948       594        283       401       280   \n",
       "CAT1 1.6L                         93       107         50       256        78   \n",
       "\n",
       "                         (1162)김해터미널점  ... (L21)위시티점 (L23)걸포동점 (L27)통일동산점  \\\n",
       "상품명                                    ...                                  \n",
       "NaN                                수량  ...        수량        수량         수량   \n",
       "합 계                             7,712  ...     2,392     1,291      4,506   \n",
       "BW1 473ml캔(수입)                      1  ...         0        25         76   \n",
       "BW1 355ml (낱캔)                      0  ...         0         0          0   \n",
       "RB 500ml                            3  ...         0         0          0   \n",
       "...                               ...  ...       ...       ...        ...   \n",
       "CAT1 355ml*12캔+카카오 에코백+치            0  ...         0         0          0   \n",
       "CAT2 355*24캔 + 진라면 6캔               0  ...         0         0          0   \n",
       "CAT2 1.6L*6                         0  ...         0         0          0   \n",
       "CAT2 1.6L                         426  ...       241       196        379   \n",
       "CAT1 1.6L                          99  ...        36        14         80   \n",
       "\n",
       "                         (L35)성대점 (L36)병점점 (L38)율전점 (L39)본오점 (L40)검암점  \\\n",
       "상품명                                                                     \n",
       "NaN                            수량       수량       수량       수량       수량   \n",
       "합 계                         2,364    2,739    1,782    3,129    1,712   \n",
       "BW1 473ml캔(수입)                 72       54       72       15       38   \n",
       "BW1 355ml (낱캔)                  0        0        0        0        0   \n",
       "RB 500ml                        0        0        0        0        0   \n",
       "...                           ...      ...      ...      ...      ...   \n",
       "CAT1 355ml*12캔+카카오 에코백+치        0        0        0        0        0   \n",
       "CAT2 355*24캔 + 진라면 6캔           0        0        0        0        0   \n",
       "CAT2 1.6L*6                     0        0        0        0        0   \n",
       "CAT2 1.6L                     120      273      128      354      106   \n",
       "CAT1 1.6L                      29       42       54       28        9   \n",
       "\n",
       "                         (L44)신길점 (L46)용호점  \n",
       "상품명                                         \n",
       "NaN                            수량       수량  \n",
       "합 계                         3,189    2,347  \n",
       "BW1 473ml캔(수입)                 27       89  \n",
       "BW1 355ml (낱캔)                  0        0  \n",
       "RB 500ml                        0        0  \n",
       "...                           ...      ...  \n",
       "CAT1 355ml*12캔+카카오 에코백+치        0        0  \n",
       "CAT2 355*24캔 + 진라면 6캔           0        0  \n",
       "CAT2 1.6L*6                     0        0  \n",
       "CAT2 1.6L                     242      122  \n",
       "CAT1 1.6L                      28       24  \n",
       "\n",
       "[117 rows x 643 columns]"
      ]
     },
     "execution_count": 6,
     "metadata": {},
     "output_type": "execute_result"
    }
   ],
   "source": [
    "df1.drop(columns=['순번','상품코드']).set_index('상품명')"
   ]
  },
  {
   "cell_type": "code",
   "execution_count": 7,
   "metadata": {
    "collapsed": true
   },
   "outputs": [
    {
     "data": {
      "text/plain": [
       "상품명                   \n",
       "NaN         합계            수량\n",
       "           (1154)의정부점     수량\n",
       "           (1155)별내점      수량\n",
       "           (1156)풍산점      수량\n",
       "           (1157)김포한강점    수량\n",
       "                          ..\n",
       "CAT1 1.6L  (L38)율전점       54\n",
       "           (L39)본오점       28\n",
       "           (L40)검암점        9\n",
       "           (L44)신길점       28\n",
       "           (L46)용호점       24\n",
       "Length: 75231, dtype: object"
      ]
     },
     "execution_count": 7,
     "metadata": {},
     "output_type": "execute_result"
    }
   ],
   "source": [
    "df1.drop(columns=['순번','상품코드']).set_index('상품명').stack()"
   ]
  },
  {
   "cell_type": "code",
   "execution_count": 8,
   "metadata": {
    "collapsed": true
   },
   "outputs": [
    {
     "data": {
      "text/html": [
       "<div>\n",
       "<style scoped>\n",
       "    .dataframe tbody tr th:only-of-type {\n",
       "        vertical-align: middle;\n",
       "    }\n",
       "\n",
       "    .dataframe tbody tr th {\n",
       "        vertical-align: top;\n",
       "    }\n",
       "\n",
       "    .dataframe thead th {\n",
       "        text-align: right;\n",
       "    }\n",
       "</style>\n",
       "<table border=\"1\" class=\"dataframe\">\n",
       "  <thead>\n",
       "    <tr style=\"text-align: right;\">\n",
       "      <th></th>\n",
       "      <th></th>\n",
       "      <th>0</th>\n",
       "    </tr>\n",
       "    <tr>\n",
       "      <th>상품명</th>\n",
       "      <th></th>\n",
       "      <th></th>\n",
       "    </tr>\n",
       "  </thead>\n",
       "  <tbody>\n",
       "    <tr>\n",
       "      <th rowspan=\"5\" valign=\"top\">NaN</th>\n",
       "      <th>합계</th>\n",
       "      <td>수량</td>\n",
       "    </tr>\n",
       "    <tr>\n",
       "      <th>(1154)의정부점</th>\n",
       "      <td>수량</td>\n",
       "    </tr>\n",
       "    <tr>\n",
       "      <th>(1155)별내점</th>\n",
       "      <td>수량</td>\n",
       "    </tr>\n",
       "    <tr>\n",
       "      <th>(1156)풍산점</th>\n",
       "      <td>수량</td>\n",
       "    </tr>\n",
       "    <tr>\n",
       "      <th>(1157)김포한강점</th>\n",
       "      <td>수량</td>\n",
       "    </tr>\n",
       "    <tr>\n",
       "      <th>...</th>\n",
       "      <th>...</th>\n",
       "      <td>...</td>\n",
       "    </tr>\n",
       "    <tr>\n",
       "      <th rowspan=\"5\" valign=\"top\">CAT1 1.6L</th>\n",
       "      <th>(L38)율전점</th>\n",
       "      <td>54</td>\n",
       "    </tr>\n",
       "    <tr>\n",
       "      <th>(L39)본오점</th>\n",
       "      <td>28</td>\n",
       "    </tr>\n",
       "    <tr>\n",
       "      <th>(L40)검암점</th>\n",
       "      <td>9</td>\n",
       "    </tr>\n",
       "    <tr>\n",
       "      <th>(L44)신길점</th>\n",
       "      <td>28</td>\n",
       "    </tr>\n",
       "    <tr>\n",
       "      <th>(L46)용호점</th>\n",
       "      <td>24</td>\n",
       "    </tr>\n",
       "  </tbody>\n",
       "</table>\n",
       "<p>75231 rows × 1 columns</p>\n",
       "</div>"
      ],
      "text/plain": [
       "                        0\n",
       "상품명                      \n",
       "NaN        합계          수량\n",
       "          (1154)의정부점   수량\n",
       "          (1155)별내점    수량\n",
       "          (1156)풍산점    수량\n",
       "          (1157)김포한강점  수량\n",
       "...                    ..\n",
       "CAT1 1.6L (L38)율전점     54\n",
       "          (L39)본오점     28\n",
       "          (L40)검암점      9\n",
       "          (L44)신길점     28\n",
       "          (L46)용호점     24\n",
       "\n",
       "[75231 rows x 1 columns]"
      ]
     },
     "execution_count": 8,
     "metadata": {},
     "output_type": "execute_result"
    }
   ],
   "source": [
    "pd.DataFrame(df1.drop(columns=['순번','상품코드']).set_index('상품명').stack())"
   ]
  },
  {
   "cell_type": "code",
   "execution_count": 9,
   "metadata": {
    "collapsed": true
   },
   "outputs": [
    {
     "data": {
      "text/html": [
       "<div>\n",
       "<style scoped>\n",
       "    .dataframe tbody tr th:only-of-type {\n",
       "        vertical-align: middle;\n",
       "    }\n",
       "\n",
       "    .dataframe tbody tr th {\n",
       "        vertical-align: top;\n",
       "    }\n",
       "\n",
       "    .dataframe thead th {\n",
       "        text-align: right;\n",
       "    }\n",
       "</style>\n",
       "<table border=\"1\" class=\"dataframe\">\n",
       "  <thead>\n",
       "    <tr style=\"text-align: right;\">\n",
       "      <th></th>\n",
       "      <th>상품명</th>\n",
       "      <th>level_1</th>\n",
       "      <th>0</th>\n",
       "    </tr>\n",
       "  </thead>\n",
       "  <tbody>\n",
       "    <tr>\n",
       "      <th>0</th>\n",
       "      <td>NaN</td>\n",
       "      <td>합계</td>\n",
       "      <td>수량</td>\n",
       "    </tr>\n",
       "    <tr>\n",
       "      <th>1</th>\n",
       "      <td>NaN</td>\n",
       "      <td>(1154)의정부점</td>\n",
       "      <td>수량</td>\n",
       "    </tr>\n",
       "    <tr>\n",
       "      <th>2</th>\n",
       "      <td>NaN</td>\n",
       "      <td>(1155)별내점</td>\n",
       "      <td>수량</td>\n",
       "    </tr>\n",
       "    <tr>\n",
       "      <th>3</th>\n",
       "      <td>NaN</td>\n",
       "      <td>(1156)풍산점</td>\n",
       "      <td>수량</td>\n",
       "    </tr>\n",
       "    <tr>\n",
       "      <th>4</th>\n",
       "      <td>NaN</td>\n",
       "      <td>(1157)김포한강점</td>\n",
       "      <td>수량</td>\n",
       "    </tr>\n",
       "    <tr>\n",
       "      <th>...</th>\n",
       "      <td>...</td>\n",
       "      <td>...</td>\n",
       "      <td>...</td>\n",
       "    </tr>\n",
       "    <tr>\n",
       "      <th>75226</th>\n",
       "      <td>CAT1 1.6L</td>\n",
       "      <td>(L38)율전점</td>\n",
       "      <td>54</td>\n",
       "    </tr>\n",
       "    <tr>\n",
       "      <th>75227</th>\n",
       "      <td>CAT1 1.6L</td>\n",
       "      <td>(L39)본오점</td>\n",
       "      <td>28</td>\n",
       "    </tr>\n",
       "    <tr>\n",
       "      <th>75228</th>\n",
       "      <td>CAT1 1.6L</td>\n",
       "      <td>(L40)검암점</td>\n",
       "      <td>9</td>\n",
       "    </tr>\n",
       "    <tr>\n",
       "      <th>75229</th>\n",
       "      <td>CAT1 1.6L</td>\n",
       "      <td>(L44)신길점</td>\n",
       "      <td>28</td>\n",
       "    </tr>\n",
       "    <tr>\n",
       "      <th>75230</th>\n",
       "      <td>CAT1 1.6L</td>\n",
       "      <td>(L46)용호점</td>\n",
       "      <td>24</td>\n",
       "    </tr>\n",
       "  </tbody>\n",
       "</table>\n",
       "<p>75231 rows × 3 columns</p>\n",
       "</div>"
      ],
      "text/plain": [
       "             상품명      level_1   0\n",
       "0            NaN           합계  수량\n",
       "1            NaN   (1154)의정부점  수량\n",
       "2            NaN    (1155)별내점  수량\n",
       "3            NaN    (1156)풍산점  수량\n",
       "4            NaN  (1157)김포한강점  수량\n",
       "...          ...          ...  ..\n",
       "75226  CAT1 1.6L     (L38)율전점  54\n",
       "75227  CAT1 1.6L     (L39)본오점  28\n",
       "75228  CAT1 1.6L     (L40)검암점   9\n",
       "75229  CAT1 1.6L     (L44)신길점  28\n",
       "75230  CAT1 1.6L     (L46)용호점  24\n",
       "\n",
       "[75231 rows x 3 columns]"
      ]
     },
     "execution_count": 9,
     "metadata": {},
     "output_type": "execute_result"
    }
   ],
   "source": [
    "pd.DataFrame(df1.drop(columns=['순번','상품코드']).set_index('상품명').stack()).reset_index()"
   ]
  },
  {
   "cell_type": "code",
   "execution_count": 10,
   "metadata": {
    "collapsed": true
   },
   "outputs": [
    {
     "data": {
      "text/html": [
       "<div>\n",
       "<style scoped>\n",
       "    .dataframe tbody tr th:only-of-type {\n",
       "        vertical-align: middle;\n",
       "    }\n",
       "\n",
       "    .dataframe tbody tr th {\n",
       "        vertical-align: top;\n",
       "    }\n",
       "\n",
       "    .dataframe thead th {\n",
       "        text-align: right;\n",
       "    }\n",
       "</style>\n",
       "<table border=\"1\" class=\"dataframe\">\n",
       "  <thead>\n",
       "    <tr style=\"text-align: right;\">\n",
       "      <th></th>\n",
       "      <th>상품명</th>\n",
       "      <th>level_1</th>\n",
       "      <th>0</th>\n",
       "    </tr>\n",
       "  </thead>\n",
       "  <tbody>\n",
       "    <tr>\n",
       "      <th>0</th>\n",
       "      <td>NaN</td>\n",
       "      <td>합계</td>\n",
       "      <td>수량</td>\n",
       "    </tr>\n",
       "    <tr>\n",
       "      <th>1</th>\n",
       "      <td>NaN</td>\n",
       "      <td>(1154)의정부점</td>\n",
       "      <td>수량</td>\n",
       "    </tr>\n",
       "    <tr>\n",
       "      <th>2</th>\n",
       "      <td>NaN</td>\n",
       "      <td>(1155)별내점</td>\n",
       "      <td>수량</td>\n",
       "    </tr>\n",
       "    <tr>\n",
       "      <th>3</th>\n",
       "      <td>NaN</td>\n",
       "      <td>(1156)풍산점</td>\n",
       "      <td>수량</td>\n",
       "    </tr>\n",
       "    <tr>\n",
       "      <th>4</th>\n",
       "      <td>NaN</td>\n",
       "      <td>(1157)김포한강점</td>\n",
       "      <td>수량</td>\n",
       "    </tr>\n",
       "  </tbody>\n",
       "</table>\n",
       "</div>"
      ],
      "text/plain": [
       "   상품명      level_1   0\n",
       "0  NaN           합계  수량\n",
       "1  NaN   (1154)의정부점  수량\n",
       "2  NaN    (1155)별내점  수량\n",
       "3  NaN    (1156)풍산점  수량\n",
       "4  NaN  (1157)김포한강점  수량"
      ]
     },
     "execution_count": 10,
     "metadata": {},
     "output_type": "execute_result"
    }
   ],
   "source": [
    "df2 = pd.DataFrame(df1.drop(columns=['순번','상품코드']).set_index('상품명').stack()).reset_index()\n",
    "df2.head()"
   ]
  },
  {
   "cell_type": "code",
   "execution_count": 11,
   "metadata": {
    "collapsed": true
   },
   "outputs": [
    {
     "data": {
      "text/html": [
       "<div>\n",
       "<style scoped>\n",
       "    .dataframe tbody tr th:only-of-type {\n",
       "        vertical-align: middle;\n",
       "    }\n",
       "\n",
       "    .dataframe tbody tr th {\n",
       "        vertical-align: top;\n",
       "    }\n",
       "\n",
       "    .dataframe thead th {\n",
       "        text-align: right;\n",
       "    }\n",
       "</style>\n",
       "<table border=\"1\" class=\"dataframe\">\n",
       "  <thead>\n",
       "    <tr style=\"text-align: right;\">\n",
       "      <th></th>\n",
       "      <th>상품명</th>\n",
       "      <th>level_1</th>\n",
       "      <th>0</th>\n",
       "    </tr>\n",
       "  </thead>\n",
       "  <tbody>\n",
       "    <tr>\n",
       "      <th>1286</th>\n",
       "      <td>BW1 473ml캔(수입)</td>\n",
       "      <td>합계</td>\n",
       "      <td>65,402</td>\n",
       "    </tr>\n",
       "    <tr>\n",
       "      <th>1287</th>\n",
       "      <td>BW1 473ml캔(수입)</td>\n",
       "      <td>(1154)의정부점</td>\n",
       "      <td>174</td>\n",
       "    </tr>\n",
       "    <tr>\n",
       "      <th>1288</th>\n",
       "      <td>BW1 473ml캔(수입)</td>\n",
       "      <td>(1155)별내점</td>\n",
       "      <td>239</td>\n",
       "    </tr>\n",
       "    <tr>\n",
       "      <th>1289</th>\n",
       "      <td>BW1 473ml캔(수입)</td>\n",
       "      <td>(1156)풍산점</td>\n",
       "      <td>432</td>\n",
       "    </tr>\n",
       "    <tr>\n",
       "      <th>1290</th>\n",
       "      <td>BW1 473ml캔(수입)</td>\n",
       "      <td>(1157)김포한강점</td>\n",
       "      <td>199</td>\n",
       "    </tr>\n",
       "    <tr>\n",
       "      <th>...</th>\n",
       "      <td>...</td>\n",
       "      <td>...</td>\n",
       "      <td>...</td>\n",
       "    </tr>\n",
       "    <tr>\n",
       "      <th>75226</th>\n",
       "      <td>CAT1 1.6L</td>\n",
       "      <td>(L38)율전점</td>\n",
       "      <td>54</td>\n",
       "    </tr>\n",
       "    <tr>\n",
       "      <th>75227</th>\n",
       "      <td>CAT1 1.6L</td>\n",
       "      <td>(L39)본오점</td>\n",
       "      <td>28</td>\n",
       "    </tr>\n",
       "    <tr>\n",
       "      <th>75228</th>\n",
       "      <td>CAT1 1.6L</td>\n",
       "      <td>(L40)검암점</td>\n",
       "      <td>9</td>\n",
       "    </tr>\n",
       "    <tr>\n",
       "      <th>75229</th>\n",
       "      <td>CAT1 1.6L</td>\n",
       "      <td>(L44)신길점</td>\n",
       "      <td>28</td>\n",
       "    </tr>\n",
       "    <tr>\n",
       "      <th>75230</th>\n",
       "      <td>CAT1 1.6L</td>\n",
       "      <td>(L46)용호점</td>\n",
       "      <td>24</td>\n",
       "    </tr>\n",
       "  </tbody>\n",
       "</table>\n",
       "<p>73945 rows × 3 columns</p>\n",
       "</div>"
      ],
      "text/plain": [
       "                  상품명      level_1       0\n",
       "1286   BW1 473ml캔(수입)           합계  65,402\n",
       "1287   BW1 473ml캔(수입)   (1154)의정부점     174\n",
       "1288   BW1 473ml캔(수입)    (1155)별내점     239\n",
       "1289   BW1 473ml캔(수입)    (1156)풍산점     432\n",
       "1290   BW1 473ml캔(수입)  (1157)김포한강점     199\n",
       "...               ...          ...     ...\n",
       "75226       CAT1 1.6L     (L38)율전점      54\n",
       "75227       CAT1 1.6L     (L39)본오점      28\n",
       "75228       CAT1 1.6L     (L40)검암점       9\n",
       "75229       CAT1 1.6L     (L44)신길점      28\n",
       "75230       CAT1 1.6L     (L46)용호점      24\n",
       "\n",
       "[73945 rows x 3 columns]"
      ]
     },
     "execution_count": 11,
     "metadata": {},
     "output_type": "execute_result"
    }
   ],
   "source": [
    "cond1 = (~(df2['상품명'].isnull()))&(df2['상품명']!='합 계')\n",
    "df2.loc[cond1]"
   ]
  },
  {
   "cell_type": "code",
   "execution_count": 12,
   "metadata": {
    "collapsed": true
   },
   "outputs": [
    {
     "data": {
      "text/html": [
       "<div>\n",
       "<style scoped>\n",
       "    .dataframe tbody tr th:only-of-type {\n",
       "        vertical-align: middle;\n",
       "    }\n",
       "\n",
       "    .dataframe tbody tr th {\n",
       "        vertical-align: top;\n",
       "    }\n",
       "\n",
       "    .dataframe thead th {\n",
       "        text-align: right;\n",
       "    }\n",
       "</style>\n",
       "<table border=\"1\" class=\"dataframe\">\n",
       "  <thead>\n",
       "    <tr style=\"text-align: right;\">\n",
       "      <th></th>\n",
       "      <th>상품명</th>\n",
       "      <th>level_1</th>\n",
       "      <th>0</th>\n",
       "    </tr>\n",
       "  </thead>\n",
       "  <tbody>\n",
       "    <tr>\n",
       "      <th>1286</th>\n",
       "      <td>BW1 473ml캔(수입)</td>\n",
       "      <td>합계</td>\n",
       "      <td>65,402</td>\n",
       "    </tr>\n",
       "    <tr>\n",
       "      <th>1287</th>\n",
       "      <td>BW1 473ml캔(수입)</td>\n",
       "      <td>(1154)의정부점</td>\n",
       "      <td>174</td>\n",
       "    </tr>\n",
       "    <tr>\n",
       "      <th>1288</th>\n",
       "      <td>BW1 473ml캔(수입)</td>\n",
       "      <td>(1155)별내점</td>\n",
       "      <td>239</td>\n",
       "    </tr>\n",
       "    <tr>\n",
       "      <th>1289</th>\n",
       "      <td>BW1 473ml캔(수입)</td>\n",
       "      <td>(1156)풍산점</td>\n",
       "      <td>432</td>\n",
       "    </tr>\n",
       "    <tr>\n",
       "      <th>1290</th>\n",
       "      <td>BW1 473ml캔(수입)</td>\n",
       "      <td>(1157)김포한강점</td>\n",
       "      <td>199</td>\n",
       "    </tr>\n",
       "    <tr>\n",
       "      <th>...</th>\n",
       "      <td>...</td>\n",
       "      <td>...</td>\n",
       "      <td>...</td>\n",
       "    </tr>\n",
       "    <tr>\n",
       "      <th>75226</th>\n",
       "      <td>CAT1 1.6L</td>\n",
       "      <td>(L38)율전점</td>\n",
       "      <td>54</td>\n",
       "    </tr>\n",
       "    <tr>\n",
       "      <th>75227</th>\n",
       "      <td>CAT1 1.6L</td>\n",
       "      <td>(L39)본오점</td>\n",
       "      <td>28</td>\n",
       "    </tr>\n",
       "    <tr>\n",
       "      <th>75228</th>\n",
       "      <td>CAT1 1.6L</td>\n",
       "      <td>(L40)검암점</td>\n",
       "      <td>9</td>\n",
       "    </tr>\n",
       "    <tr>\n",
       "      <th>75229</th>\n",
       "      <td>CAT1 1.6L</td>\n",
       "      <td>(L44)신길점</td>\n",
       "      <td>28</td>\n",
       "    </tr>\n",
       "    <tr>\n",
       "      <th>75230</th>\n",
       "      <td>CAT1 1.6L</td>\n",
       "      <td>(L46)용호점</td>\n",
       "      <td>24</td>\n",
       "    </tr>\n",
       "  </tbody>\n",
       "</table>\n",
       "<p>73945 rows × 3 columns</p>\n",
       "</div>"
      ],
      "text/plain": [
       "                  상품명      level_1       0\n",
       "1286   BW1 473ml캔(수입)           합계  65,402\n",
       "1287   BW1 473ml캔(수입)   (1154)의정부점     174\n",
       "1288   BW1 473ml캔(수입)    (1155)별내점     239\n",
       "1289   BW1 473ml캔(수입)    (1156)풍산점     432\n",
       "1290   BW1 473ml캔(수입)  (1157)김포한강점     199\n",
       "...               ...          ...     ...\n",
       "75226       CAT1 1.6L     (L38)율전점      54\n",
       "75227       CAT1 1.6L     (L39)본오점      28\n",
       "75228       CAT1 1.6L     (L40)검암점       9\n",
       "75229       CAT1 1.6L     (L44)신길점      28\n",
       "75230       CAT1 1.6L     (L46)용호점      24\n",
       "\n",
       "[73945 rows x 3 columns]"
      ]
     },
     "execution_count": 12,
     "metadata": {},
     "output_type": "execute_result"
    }
   ],
   "source": [
    "df3 = df2.loc[cond1]\n",
    "df3"
   ]
  },
  {
   "cell_type": "code",
   "execution_count": 13,
   "metadata": {
    "collapsed": true
   },
   "outputs": [
    {
     "data": {
      "text/plain": [
       "array(['BW1 473ml캔(수입)', 'BW1 355ml (낱캔)', 'RB 500ml', 'VX 500ml',\n",
       "       'CAT2 500ml', 'BW1 473ml(알루미늄)_2018 Worldcup', 'BW1 740ml',\n",
       "       'BW1 473ml*24캔 ALU', 'G1아일랜드 IPA 355ml',\n",
       "       'G1 아일랜드 312 Wheat Ale 355ml', 'G1아일랜드 Sopie 355ml', 'GL LOLITA',\n",
       "       'Juliet', 'GL Gillian', 'GL HALIA', 'STL 500ml', 'B1 Grigio 250ml',\n",
       "       'BR 250ml', 'PRC 500ml', 'STLA 330*6캔(new code)', 'STL 330ml',\n",
       "       'RPB 330ml', 'RB1 500ml', 'HGD2 750ml', 'HGD 500캔 (수입)',\n",
       "       'HGD 330*6캔 (수입)', 'HGD3 500ml', 'HRB 500ml', 'HRB 500ml(신코드)',\n",
       "       'PTG 473ml캔', 'CFR 355ml*6', 'CFR 355ml', 'CFR 330ml(신)',\n",
       "       'OLB 355ml', 'OLB 355ml*6', 'OLB 500ml', 'FG 355ml', 'FG 355ml*6',\n",
       "       'FG 500ml', 'FG 500ml*24캔[Traders]', 'FG 1.6L', 'FG 355ml*12캔 쿠폰팩',\n",
       "       'OLB 355ml*6캔 PKG [골든크라운]', 'OLB 500ml캔 [골든크라운]',\n",
       "       'OLB 500ml병 [골든크라운]', 'OLB 1.6L [골든크라운]', 'OLB 355ml*12캔 + 전용잔2',\n",
       "       'OLB 355ml*12캔 + 쿨러백 (202006)', 'HGD 330ml', 'HGD 355ml*6',\n",
       "       'STL 500ml*4', 'CRN 355ml', 'HGD2 250ml', 'BW1 330ml(신)',\n",
       "       'BW1 740ml*3캔_Traders', 'BW1 355ml*6캔(수입)', 'STL 500ml*6캔_Traders',\n",
       "       'HGD 500ml*6캔_Traders', 'STL 330ml*12캔_Multi', 'CRN 355ml*6캔',\n",
       "       'G1 IPA 473ml캔', 'G1 312 473ml캔', 'BW1 237ml*8캔',\n",
       "       'BW1 237ml*12캔 PKG', 'MC1 500ml캔', 'RR 355ml*6캔',\n",
       "       'RR 355ml*24캔 [Traders]', 'CRN (2019)', 'HGD2 330ml*6캔',\n",
       "       'RR 355*6캔 + 전용잔 기획', 'G1 473ml*8캔 [Traders]',\n",
       "       'G1 IPA 473ml*4캔+전용잔', 'G1 IPA 473ml*6캔 [Traders]',\n",
       "       'HGD 750ml*3캔+50cl 전용잔', 'MC1 500ml*4캔+전용잔 [2020,03]',\n",
       "       'STL 500ml*6캔+스페셜 전용잔(2020 로맨틱)', 'PTG 473ml*6캔 [Traders]',\n",
       "       'STL 500ml*6캔+전용잔 [2020여성의날]', 'G1IPA 473ml*4캔+기획잔 [2020/03]',\n",
       "       'G1 312 473ml*4캔 + 전용잔 기획[2020.03]', 'HGD 500ml*6캔 + 레시피 노트',\n",
       "       'HGD3 500ml*4캔+', 'HGD3 500ml 캔 (202006)',\n",
       "       'STL *4캔+전용잔1(202006 2차)', 'G1 IPA 473ml*8캔 쿨러백',\n",
       "       'HGD 495ml*4 + 전용잔 [2020.07_국산]',\n",
       "       'G1 IPA 473ml*12캔 + 쿨러박스 [Traders]', 'CAT2 355ml', 'CAT1 355ml',\n",
       "       'CAT2 355ml*6', 'CAT2 355ml*24', 'CAT1 355ml*6', 'CAT1 1.0L',\n",
       "       'CAT1 500ml', 'CAT1 355ml*12', 'CAT2 355ml*24+쿨러백',\n",
       "       'CAT2 355ml*8 절약팩', 'CAT2 640ml(신)', 'CAT2 500ml(신)',\n",
       "       'CAT2 355ml*10캔(냉장패키지)', 'CAT2 250ml*10캔 냉장패키지',\n",
       "       'CAT1 250ml*10*2 [Traders]', 'CAT2 250ml',\n",
       "       'CAT1 48캔+신라면 멀티 [Traders]', 'CAT2 355ml*24캔+진라면',\n",
       "       'CAT1 355*12캔 카카오쿨러백', 'CAT1 355ml*12캔+카카오 에코백+치',\n",
       "       'CAT2 355*24캔 + 진라면 6캔', 'CAT2 1.6L*6', 'CAT2 1.6L', 'CAT1 1.6L'],\n",
       "      dtype=object)"
      ]
     },
     "execution_count": 13,
     "metadata": {},
     "output_type": "execute_result"
    }
   ],
   "source": [
    "df3['상품명'].unique()"
   ]
  },
  {
   "cell_type": "code",
   "execution_count": 14,
   "metadata": {
    "collapsed": true
   },
   "outputs": [
    {
     "data": {
      "text/plain": [
       "Normal Type    44367\n",
       "C Type         17361\n",
       "B Type          6430\n",
       "S Type          5787\n",
       "Name: 상품명, dtype: int64"
      ]
     },
     "execution_count": 14,
     "metadata": {},
     "output_type": "execute_result"
    }
   ],
   "source": [
    "def func1(row):\n",
    "    if 'CAT' in row:\n",
    "        return 'C Type'\n",
    "    elif 'STL' in row:\n",
    "        return 'S Type'\n",
    "    elif 'BW' in row:\n",
    "        return 'B Type'\n",
    "    else:\n",
    "        return 'Normal Type'\n",
    "    \n",
    "df3['상품명'].apply(func1).value_counts()"
   ]
  },
  {
   "cell_type": "code",
   "execution_count": 15,
   "metadata": {
    "collapsed": true
   },
   "outputs": [
    {
     "name": "stderr",
     "output_type": "stream",
     "text": [
      "<ipython-input-15-0075d566ff2c>:1: SettingWithCopyWarning: \n",
      "A value is trying to be set on a copy of a slice from a DataFrame.\n",
      "Try using .loc[row_indexer,col_indexer] = value instead\n",
      "\n",
      "See the caveats in the documentation: https://pandas.pydata.org/pandas-docs/stable/user_guide/indexing.html#returning-a-view-versus-a-copy\n",
      "  df3['제품타입'] = df3['상품명'].apply(func1)\n"
     ]
    }
   ],
   "source": [
    "df3['제품타입'] = df3['상품명'].apply(func1)"
   ]
  },
  {
   "cell_type": "code",
   "execution_count": 16,
   "metadata": {
    "collapsed": true
   },
   "outputs": [
    {
     "data": {
      "text/html": [
       "<div>\n",
       "<style scoped>\n",
       "    .dataframe tbody tr th:only-of-type {\n",
       "        vertical-align: middle;\n",
       "    }\n",
       "\n",
       "    .dataframe tbody tr th {\n",
       "        vertical-align: top;\n",
       "    }\n",
       "\n",
       "    .dataframe thead th {\n",
       "        text-align: right;\n",
       "    }\n",
       "</style>\n",
       "<table border=\"1\" class=\"dataframe\">\n",
       "  <thead>\n",
       "    <tr style=\"text-align: right;\">\n",
       "      <th></th>\n",
       "      <th>상품명</th>\n",
       "      <th>level_1</th>\n",
       "      <th>0</th>\n",
       "      <th>제품타입</th>\n",
       "    </tr>\n",
       "  </thead>\n",
       "  <tbody>\n",
       "    <tr>\n",
       "      <th>1286</th>\n",
       "      <td>BW1 473ml캔(수입)</td>\n",
       "      <td>합계</td>\n",
       "      <td>65,402</td>\n",
       "      <td>B Type</td>\n",
       "    </tr>\n",
       "    <tr>\n",
       "      <th>1287</th>\n",
       "      <td>BW1 473ml캔(수입)</td>\n",
       "      <td>(1154)의정부점</td>\n",
       "      <td>174</td>\n",
       "      <td>B Type</td>\n",
       "    </tr>\n",
       "    <tr>\n",
       "      <th>1288</th>\n",
       "      <td>BW1 473ml캔(수입)</td>\n",
       "      <td>(1155)별내점</td>\n",
       "      <td>239</td>\n",
       "      <td>B Type</td>\n",
       "    </tr>\n",
       "    <tr>\n",
       "      <th>1289</th>\n",
       "      <td>BW1 473ml캔(수입)</td>\n",
       "      <td>(1156)풍산점</td>\n",
       "      <td>432</td>\n",
       "      <td>B Type</td>\n",
       "    </tr>\n",
       "    <tr>\n",
       "      <th>1290</th>\n",
       "      <td>BW1 473ml캔(수입)</td>\n",
       "      <td>(1157)김포한강점</td>\n",
       "      <td>199</td>\n",
       "      <td>B Type</td>\n",
       "    </tr>\n",
       "    <tr>\n",
       "      <th>...</th>\n",
       "      <td>...</td>\n",
       "      <td>...</td>\n",
       "      <td>...</td>\n",
       "      <td>...</td>\n",
       "    </tr>\n",
       "    <tr>\n",
       "      <th>75226</th>\n",
       "      <td>CAT1 1.6L</td>\n",
       "      <td>(L38)율전점</td>\n",
       "      <td>54</td>\n",
       "      <td>C Type</td>\n",
       "    </tr>\n",
       "    <tr>\n",
       "      <th>75227</th>\n",
       "      <td>CAT1 1.6L</td>\n",
       "      <td>(L39)본오점</td>\n",
       "      <td>28</td>\n",
       "      <td>C Type</td>\n",
       "    </tr>\n",
       "    <tr>\n",
       "      <th>75228</th>\n",
       "      <td>CAT1 1.6L</td>\n",
       "      <td>(L40)검암점</td>\n",
       "      <td>9</td>\n",
       "      <td>C Type</td>\n",
       "    </tr>\n",
       "    <tr>\n",
       "      <th>75229</th>\n",
       "      <td>CAT1 1.6L</td>\n",
       "      <td>(L44)신길점</td>\n",
       "      <td>28</td>\n",
       "      <td>C Type</td>\n",
       "    </tr>\n",
       "    <tr>\n",
       "      <th>75230</th>\n",
       "      <td>CAT1 1.6L</td>\n",
       "      <td>(L46)용호점</td>\n",
       "      <td>24</td>\n",
       "      <td>C Type</td>\n",
       "    </tr>\n",
       "  </tbody>\n",
       "</table>\n",
       "<p>73945 rows × 4 columns</p>\n",
       "</div>"
      ],
      "text/plain": [
       "                  상품명      level_1       0    제품타입\n",
       "1286   BW1 473ml캔(수입)           합계  65,402  B Type\n",
       "1287   BW1 473ml캔(수입)   (1154)의정부점     174  B Type\n",
       "1288   BW1 473ml캔(수입)    (1155)별내점     239  B Type\n",
       "1289   BW1 473ml캔(수입)    (1156)풍산점     432  B Type\n",
       "1290   BW1 473ml캔(수입)  (1157)김포한강점     199  B Type\n",
       "...               ...          ...     ...     ...\n",
       "75226       CAT1 1.6L     (L38)율전점      54  C Type\n",
       "75227       CAT1 1.6L     (L39)본오점      28  C Type\n",
       "75228       CAT1 1.6L     (L40)검암점       9  C Type\n",
       "75229       CAT1 1.6L     (L44)신길점      28  C Type\n",
       "75230       CAT1 1.6L     (L46)용호점      24  C Type\n",
       "\n",
       "[73945 rows x 4 columns]"
      ]
     },
     "execution_count": 16,
     "metadata": {},
     "output_type": "execute_result"
    }
   ],
   "source": [
    "df3"
   ]
  },
  {
   "cell_type": "code",
   "execution_count": 22,
   "metadata": {
    "collapsed": true
   },
   "outputs": [
    {
     "data": {
      "text/html": [
       "<div>\n",
       "<style scoped>\n",
       "    .dataframe tbody tr th:only-of-type {\n",
       "        vertical-align: middle;\n",
       "    }\n",
       "\n",
       "    .dataframe tbody tr th {\n",
       "        vertical-align: top;\n",
       "    }\n",
       "\n",
       "    .dataframe thead th {\n",
       "        text-align: right;\n",
       "    }\n",
       "</style>\n",
       "<table border=\"1\" class=\"dataframe\">\n",
       "  <thead>\n",
       "    <tr style=\"text-align: right;\">\n",
       "      <th></th>\n",
       "      <th>상품명</th>\n",
       "      <th>level_1</th>\n",
       "      <th>0</th>\n",
       "      <th>제품타입</th>\n",
       "    </tr>\n",
       "  </thead>\n",
       "  <tbody>\n",
       "    <tr>\n",
       "      <th>1287</th>\n",
       "      <td>BW1 473ml캔(수입)</td>\n",
       "      <td>(1154)의정부점</td>\n",
       "      <td>174</td>\n",
       "      <td>B Type</td>\n",
       "    </tr>\n",
       "    <tr>\n",
       "      <th>1288</th>\n",
       "      <td>BW1 473ml캔(수입)</td>\n",
       "      <td>(1155)별내점</td>\n",
       "      <td>239</td>\n",
       "      <td>B Type</td>\n",
       "    </tr>\n",
       "    <tr>\n",
       "      <th>1289</th>\n",
       "      <td>BW1 473ml캔(수입)</td>\n",
       "      <td>(1156)풍산점</td>\n",
       "      <td>432</td>\n",
       "      <td>B Type</td>\n",
       "    </tr>\n",
       "    <tr>\n",
       "      <th>1290</th>\n",
       "      <td>BW1 473ml캔(수입)</td>\n",
       "      <td>(1157)김포한강점</td>\n",
       "      <td>199</td>\n",
       "      <td>B Type</td>\n",
       "    </tr>\n",
       "    <tr>\n",
       "      <th>1291</th>\n",
       "      <td>BW1 473ml캔(수입)</td>\n",
       "      <td>(1158)세종점</td>\n",
       "      <td>220</td>\n",
       "      <td>B Type</td>\n",
       "    </tr>\n",
       "    <tr>\n",
       "      <th>...</th>\n",
       "      <td>...</td>\n",
       "      <td>...</td>\n",
       "      <td>...</td>\n",
       "      <td>...</td>\n",
       "    </tr>\n",
       "    <tr>\n",
       "      <th>75226</th>\n",
       "      <td>CAT1 1.6L</td>\n",
       "      <td>(L38)율전점</td>\n",
       "      <td>54</td>\n",
       "      <td>C Type</td>\n",
       "    </tr>\n",
       "    <tr>\n",
       "      <th>75227</th>\n",
       "      <td>CAT1 1.6L</td>\n",
       "      <td>(L39)본오점</td>\n",
       "      <td>28</td>\n",
       "      <td>C Type</td>\n",
       "    </tr>\n",
       "    <tr>\n",
       "      <th>75228</th>\n",
       "      <td>CAT1 1.6L</td>\n",
       "      <td>(L40)검암점</td>\n",
       "      <td>9</td>\n",
       "      <td>C Type</td>\n",
       "    </tr>\n",
       "    <tr>\n",
       "      <th>75229</th>\n",
       "      <td>CAT1 1.6L</td>\n",
       "      <td>(L44)신길점</td>\n",
       "      <td>28</td>\n",
       "      <td>C Type</td>\n",
       "    </tr>\n",
       "    <tr>\n",
       "      <th>75230</th>\n",
       "      <td>CAT1 1.6L</td>\n",
       "      <td>(L46)용호점</td>\n",
       "      <td>24</td>\n",
       "      <td>C Type</td>\n",
       "    </tr>\n",
       "  </tbody>\n",
       "</table>\n",
       "<p>29532 rows × 4 columns</p>\n",
       "</div>"
      ],
      "text/plain": [
       "                  상품명      level_1    0    제품타입\n",
       "1287   BW1 473ml캔(수입)   (1154)의정부점  174  B Type\n",
       "1288   BW1 473ml캔(수입)    (1155)별내점  239  B Type\n",
       "1289   BW1 473ml캔(수입)    (1156)풍산점  432  B Type\n",
       "1290   BW1 473ml캔(수입)  (1157)김포한강점  199  B Type\n",
       "1291   BW1 473ml캔(수입)    (1158)세종점  220  B Type\n",
       "...               ...          ...  ...     ...\n",
       "75226       CAT1 1.6L     (L38)율전점   54  C Type\n",
       "75227       CAT1 1.6L     (L39)본오점   28  C Type\n",
       "75228       CAT1 1.6L     (L40)검암점    9  C Type\n",
       "75229       CAT1 1.6L     (L44)신길점   28  C Type\n",
       "75230       CAT1 1.6L     (L46)용호점   24  C Type\n",
       "\n",
       "[29532 rows x 4 columns]"
      ]
     },
     "execution_count": 22,
     "metadata": {},
     "output_type": "execute_result"
    }
   ],
   "source": [
    "df3.loc[(df3['제품타입']!='Normal Type')&(df3['level_1']!=' 합계')]"
   ]
  },
  {
   "cell_type": "code",
   "execution_count": 23,
   "metadata": {},
   "outputs": [],
   "source": [
    "df4 = df3.loc[(df3['제품타입']!='Normal Type')&(df3['level_1']!=' 합계')]"
   ]
  },
  {
   "cell_type": "code",
   "execution_count": 24,
   "metadata": {
    "collapsed": true
   },
   "outputs": [
    {
     "data": {
      "text/html": [
       "<div>\n",
       "<style scoped>\n",
       "    .dataframe tbody tr th:only-of-type {\n",
       "        vertical-align: middle;\n",
       "    }\n",
       "\n",
       "    .dataframe tbody tr th {\n",
       "        vertical-align: top;\n",
       "    }\n",
       "\n",
       "    .dataframe thead th {\n",
       "        text-align: right;\n",
       "    }\n",
       "</style>\n",
       "<table border=\"1\" class=\"dataframe\">\n",
       "  <thead>\n",
       "    <tr style=\"text-align: right;\">\n",
       "      <th></th>\n",
       "      <th>상품명</th>\n",
       "      <th>지점</th>\n",
       "      <th>수량</th>\n",
       "      <th>제품타입</th>\n",
       "    </tr>\n",
       "  </thead>\n",
       "  <tbody>\n",
       "    <tr>\n",
       "      <th>1287</th>\n",
       "      <td>BW1 473ml캔(수입)</td>\n",
       "      <td>(1154)의정부점</td>\n",
       "      <td>174</td>\n",
       "      <td>B Type</td>\n",
       "    </tr>\n",
       "    <tr>\n",
       "      <th>1288</th>\n",
       "      <td>BW1 473ml캔(수입)</td>\n",
       "      <td>(1155)별내점</td>\n",
       "      <td>239</td>\n",
       "      <td>B Type</td>\n",
       "    </tr>\n",
       "    <tr>\n",
       "      <th>1289</th>\n",
       "      <td>BW1 473ml캔(수입)</td>\n",
       "      <td>(1156)풍산점</td>\n",
       "      <td>432</td>\n",
       "      <td>B Type</td>\n",
       "    </tr>\n",
       "    <tr>\n",
       "      <th>1290</th>\n",
       "      <td>BW1 473ml캔(수입)</td>\n",
       "      <td>(1157)김포한강점</td>\n",
       "      <td>199</td>\n",
       "      <td>B Type</td>\n",
       "    </tr>\n",
       "    <tr>\n",
       "      <th>1291</th>\n",
       "      <td>BW1 473ml캔(수입)</td>\n",
       "      <td>(1158)세종점</td>\n",
       "      <td>220</td>\n",
       "      <td>B Type</td>\n",
       "    </tr>\n",
       "    <tr>\n",
       "      <th>...</th>\n",
       "      <td>...</td>\n",
       "      <td>...</td>\n",
       "      <td>...</td>\n",
       "      <td>...</td>\n",
       "    </tr>\n",
       "    <tr>\n",
       "      <th>75226</th>\n",
       "      <td>CAT1 1.6L</td>\n",
       "      <td>(L38)율전점</td>\n",
       "      <td>54</td>\n",
       "      <td>C Type</td>\n",
       "    </tr>\n",
       "    <tr>\n",
       "      <th>75227</th>\n",
       "      <td>CAT1 1.6L</td>\n",
       "      <td>(L39)본오점</td>\n",
       "      <td>28</td>\n",
       "      <td>C Type</td>\n",
       "    </tr>\n",
       "    <tr>\n",
       "      <th>75228</th>\n",
       "      <td>CAT1 1.6L</td>\n",
       "      <td>(L40)검암점</td>\n",
       "      <td>9</td>\n",
       "      <td>C Type</td>\n",
       "    </tr>\n",
       "    <tr>\n",
       "      <th>75229</th>\n",
       "      <td>CAT1 1.6L</td>\n",
       "      <td>(L44)신길점</td>\n",
       "      <td>28</td>\n",
       "      <td>C Type</td>\n",
       "    </tr>\n",
       "    <tr>\n",
       "      <th>75230</th>\n",
       "      <td>CAT1 1.6L</td>\n",
       "      <td>(L46)용호점</td>\n",
       "      <td>24</td>\n",
       "      <td>C Type</td>\n",
       "    </tr>\n",
       "  </tbody>\n",
       "</table>\n",
       "<p>29532 rows × 4 columns</p>\n",
       "</div>"
      ],
      "text/plain": [
       "                  상품명           지점   수량    제품타입\n",
       "1287   BW1 473ml캔(수입)   (1154)의정부점  174  B Type\n",
       "1288   BW1 473ml캔(수입)    (1155)별내점  239  B Type\n",
       "1289   BW1 473ml캔(수입)    (1156)풍산점  432  B Type\n",
       "1290   BW1 473ml캔(수입)  (1157)김포한강점  199  B Type\n",
       "1291   BW1 473ml캔(수입)    (1158)세종점  220  B Type\n",
       "...               ...          ...  ...     ...\n",
       "75226       CAT1 1.6L     (L38)율전점   54  C Type\n",
       "75227       CAT1 1.6L     (L39)본오점   28  C Type\n",
       "75228       CAT1 1.6L     (L40)검암점    9  C Type\n",
       "75229       CAT1 1.6L     (L44)신길점   28  C Type\n",
       "75230       CAT1 1.6L     (L46)용호점   24  C Type\n",
       "\n",
       "[29532 rows x 4 columns]"
      ]
     },
     "execution_count": 24,
     "metadata": {},
     "output_type": "execute_result"
    }
   ],
   "source": [
    "df4.rename(columns={'level_1':'지점',0:'수량'})"
   ]
  },
  {
   "cell_type": "code",
   "execution_count": 26,
   "metadata": {
    "collapsed": true
   },
   "outputs": [
    {
     "data": {
      "text/plain": [
       "1287     174\n",
       "1288     239\n",
       "1289     432\n",
       "1290     199\n",
       "1291     220\n",
       "        ... \n",
       "75226     54\n",
       "75227     28\n",
       "75228      9\n",
       "75229     28\n",
       "75230     24\n",
       "Name: 수량, Length: 29532, dtype: object"
      ]
     },
     "execution_count": 26,
     "metadata": {},
     "output_type": "execute_result"
    }
   ],
   "source": [
    "df5 = df4.rename(columns={'level_1':'지점',0:'수량'})\n",
    "df5['수량']"
   ]
  },
  {
   "cell_type": "code",
   "execution_count": 36,
   "metadata": {
    "collapsed": true
   },
   "outputs": [
    {
     "data": {
      "text/plain": [
       "1287     174\n",
       "1288     239\n",
       "1289     432\n",
       "1290     199\n",
       "1291     220\n",
       "        ... \n",
       "75226     54\n",
       "75227     28\n",
       "75228      9\n",
       "75229     28\n",
       "75230     24\n",
       "Name: 수량, Length: 29532, dtype: int32"
      ]
     },
     "execution_count": 36,
     "metadata": {},
     "output_type": "execute_result"
    }
   ],
   "source": [
    "def func2(row):\n",
    "    if len(row)>=4:\n",
    "        result = row.split(',')\n",
    "        return result[0]+result[1]\n",
    "    else:\n",
    "        return row\n",
    "    \n",
    "(df5['수량'].apply(func2)).astype(int)"
   ]
  },
  {
   "cell_type": "code",
   "execution_count": 37,
   "metadata": {},
   "outputs": [],
   "source": [
    "df5['수량(int)']= (df5['수량'].apply(func2)).astype(int)"
   ]
  },
  {
   "cell_type": "code",
   "execution_count": 38,
   "metadata": {
    "collapsed": true
   },
   "outputs": [
    {
     "data": {
      "text/html": [
       "<div>\n",
       "<style scoped>\n",
       "    .dataframe tbody tr th:only-of-type {\n",
       "        vertical-align: middle;\n",
       "    }\n",
       "\n",
       "    .dataframe tbody tr th {\n",
       "        vertical-align: top;\n",
       "    }\n",
       "\n",
       "    .dataframe thead th {\n",
       "        text-align: right;\n",
       "    }\n",
       "</style>\n",
       "<table border=\"1\" class=\"dataframe\">\n",
       "  <thead>\n",
       "    <tr style=\"text-align: right;\">\n",
       "      <th></th>\n",
       "      <th>상품명</th>\n",
       "      <th>지점</th>\n",
       "      <th>수량</th>\n",
       "      <th>제품타입</th>\n",
       "      <th>수량(int)</th>\n",
       "    </tr>\n",
       "  </thead>\n",
       "  <tbody>\n",
       "    <tr>\n",
       "      <th>1287</th>\n",
       "      <td>BW1 473ml캔(수입)</td>\n",
       "      <td>(1154)의정부점</td>\n",
       "      <td>174</td>\n",
       "      <td>B Type</td>\n",
       "      <td>174</td>\n",
       "    </tr>\n",
       "    <tr>\n",
       "      <th>1288</th>\n",
       "      <td>BW1 473ml캔(수입)</td>\n",
       "      <td>(1155)별내점</td>\n",
       "      <td>239</td>\n",
       "      <td>B Type</td>\n",
       "      <td>239</td>\n",
       "    </tr>\n",
       "    <tr>\n",
       "      <th>1289</th>\n",
       "      <td>BW1 473ml캔(수입)</td>\n",
       "      <td>(1156)풍산점</td>\n",
       "      <td>432</td>\n",
       "      <td>B Type</td>\n",
       "      <td>432</td>\n",
       "    </tr>\n",
       "    <tr>\n",
       "      <th>1290</th>\n",
       "      <td>BW1 473ml캔(수입)</td>\n",
       "      <td>(1157)김포한강점</td>\n",
       "      <td>199</td>\n",
       "      <td>B Type</td>\n",
       "      <td>199</td>\n",
       "    </tr>\n",
       "    <tr>\n",
       "      <th>1291</th>\n",
       "      <td>BW1 473ml캔(수입)</td>\n",
       "      <td>(1158)세종점</td>\n",
       "      <td>220</td>\n",
       "      <td>B Type</td>\n",
       "      <td>220</td>\n",
       "    </tr>\n",
       "    <tr>\n",
       "      <th>...</th>\n",
       "      <td>...</td>\n",
       "      <td>...</td>\n",
       "      <td>...</td>\n",
       "      <td>...</td>\n",
       "      <td>...</td>\n",
       "    </tr>\n",
       "    <tr>\n",
       "      <th>75226</th>\n",
       "      <td>CAT1 1.6L</td>\n",
       "      <td>(L38)율전점</td>\n",
       "      <td>54</td>\n",
       "      <td>C Type</td>\n",
       "      <td>54</td>\n",
       "    </tr>\n",
       "    <tr>\n",
       "      <th>75227</th>\n",
       "      <td>CAT1 1.6L</td>\n",
       "      <td>(L39)본오점</td>\n",
       "      <td>28</td>\n",
       "      <td>C Type</td>\n",
       "      <td>28</td>\n",
       "    </tr>\n",
       "    <tr>\n",
       "      <th>75228</th>\n",
       "      <td>CAT1 1.6L</td>\n",
       "      <td>(L40)검암점</td>\n",
       "      <td>9</td>\n",
       "      <td>C Type</td>\n",
       "      <td>9</td>\n",
       "    </tr>\n",
       "    <tr>\n",
       "      <th>75229</th>\n",
       "      <td>CAT1 1.6L</td>\n",
       "      <td>(L44)신길점</td>\n",
       "      <td>28</td>\n",
       "      <td>C Type</td>\n",
       "      <td>28</td>\n",
       "    </tr>\n",
       "    <tr>\n",
       "      <th>75230</th>\n",
       "      <td>CAT1 1.6L</td>\n",
       "      <td>(L46)용호점</td>\n",
       "      <td>24</td>\n",
       "      <td>C Type</td>\n",
       "      <td>24</td>\n",
       "    </tr>\n",
       "  </tbody>\n",
       "</table>\n",
       "<p>29532 rows × 5 columns</p>\n",
       "</div>"
      ],
      "text/plain": [
       "                  상품명           지점   수량    제품타입  수량(int)\n",
       "1287   BW1 473ml캔(수입)   (1154)의정부점  174  B Type      174\n",
       "1288   BW1 473ml캔(수입)    (1155)별내점  239  B Type      239\n",
       "1289   BW1 473ml캔(수입)    (1156)풍산점  432  B Type      432\n",
       "1290   BW1 473ml캔(수입)  (1157)김포한강점  199  B Type      199\n",
       "1291   BW1 473ml캔(수입)    (1158)세종점  220  B Type      220\n",
       "...               ...          ...  ...     ...      ...\n",
       "75226       CAT1 1.6L     (L38)율전점   54  C Type       54\n",
       "75227       CAT1 1.6L     (L39)본오점   28  C Type       28\n",
       "75228       CAT1 1.6L     (L40)검암점    9  C Type        9\n",
       "75229       CAT1 1.6L     (L44)신길점   28  C Type       28\n",
       "75230       CAT1 1.6L     (L46)용호점   24  C Type       24\n",
       "\n",
       "[29532 rows x 5 columns]"
      ]
     },
     "execution_count": 38,
     "metadata": {},
     "output_type": "execute_result"
    }
   ],
   "source": [
    "df5"
   ]
  },
  {
   "cell_type": "code",
   "execution_count": 46,
   "metadata": {
    "collapsed": true
   },
   "outputs": [
    {
     "data": {
      "text/html": [
       "<div>\n",
       "<style scoped>\n",
       "    .dataframe tbody tr th:only-of-type {\n",
       "        vertical-align: middle;\n",
       "    }\n",
       "\n",
       "    .dataframe tbody tr th {\n",
       "        vertical-align: top;\n",
       "    }\n",
       "\n",
       "    .dataframe thead th {\n",
       "        text-align: right;\n",
       "    }\n",
       "</style>\n",
       "<table border=\"1\" class=\"dataframe\">\n",
       "  <thead>\n",
       "    <tr style=\"text-align: right;\">\n",
       "      <th></th>\n",
       "      <th>수량(int)</th>\n",
       "    </tr>\n",
       "    <tr>\n",
       "      <th>지점</th>\n",
       "      <th></th>\n",
       "    </tr>\n",
       "  </thead>\n",
       "  <tbody>\n",
       "    <tr>\n",
       "      <th>(610)부천점</th>\n",
       "      <td>16879</td>\n",
       "    </tr>\n",
       "    <tr>\n",
       "      <th>(600)안양점</th>\n",
       "      <td>15181</td>\n",
       "    </tr>\n",
       "    <tr>\n",
       "      <th>(966)성남점</th>\n",
       "      <td>13804</td>\n",
       "    </tr>\n",
       "    <tr>\n",
       "      <th>(550)은평점</th>\n",
       "      <td>13242</td>\n",
       "    </tr>\n",
       "    <tr>\n",
       "      <th>(380)가양점</th>\n",
       "      <td>11946</td>\n",
       "    </tr>\n",
       "    <tr>\n",
       "      <th>(470)성수점</th>\n",
       "      <td>11520</td>\n",
       "    </tr>\n",
       "    <tr>\n",
       "      <th>(660)연수점</th>\n",
       "      <td>10901</td>\n",
       "    </tr>\n",
       "    <tr>\n",
       "      <th>(962)경기광주점</th>\n",
       "      <td>10891</td>\n",
       "    </tr>\n",
       "    <tr>\n",
       "      <th>(840)월계점</th>\n",
       "      <td>10830</td>\n",
       "    </tr>\n",
       "    <tr>\n",
       "      <th>(690)고잔점</th>\n",
       "      <td>10812</td>\n",
       "    </tr>\n",
       "  </tbody>\n",
       "</table>\n",
       "</div>"
      ],
      "text/plain": [
       "            수량(int)\n",
       "지점                 \n",
       "(610)부천점      16879\n",
       "(600)안양점      15181\n",
       "(966)성남점      13804\n",
       "(550)은평점      13242\n",
       "(380)가양점      11946\n",
       "(470)성수점      11520\n",
       "(660)연수점      10901\n",
       "(962)경기광주점    10891\n",
       "(840)월계점      10830\n",
       "(690)고잔점      10812"
      ]
     },
     "execution_count": 46,
     "metadata": {},
     "output_type": "execute_result"
    }
   ],
   "source": [
    "pd.pivot_table(data=df5, index='지점',values='수량(int)',aggfunc='sum').sort_values(by='수량(int)',ascending=False).head(10)"
   ]
  },
  {
   "cell_type": "code",
   "execution_count": 58,
   "metadata": {
    "collapsed": true
   },
   "outputs": [
    {
     "data": {
      "text/html": [
       "<div>\n",
       "<style scoped>\n",
       "    .dataframe tbody tr th:only-of-type {\n",
       "        vertical-align: middle;\n",
       "    }\n",
       "\n",
       "    .dataframe tbody tr th {\n",
       "        vertical-align: top;\n",
       "    }\n",
       "\n",
       "    .dataframe thead th {\n",
       "        text-align: right;\n",
       "    }\n",
       "</style>\n",
       "<table border=\"1\" class=\"dataframe\">\n",
       "  <thead>\n",
       "    <tr style=\"text-align: right;\">\n",
       "      <th></th>\n",
       "      <th>수량(int)</th>\n",
       "    </tr>\n",
       "    <tr>\n",
       "      <th>지점</th>\n",
       "      <th></th>\n",
       "    </tr>\n",
       "  </thead>\n",
       "  <tbody>\n",
       "    <tr>\n",
       "      <th>(610)부천점</th>\n",
       "      <td>16879</td>\n",
       "    </tr>\n",
       "    <tr>\n",
       "      <th>(600)안양점</th>\n",
       "      <td>15181</td>\n",
       "    </tr>\n",
       "    <tr>\n",
       "      <th>(966)성남점</th>\n",
       "      <td>13804</td>\n",
       "    </tr>\n",
       "    <tr>\n",
       "      <th>(550)은평점</th>\n",
       "      <td>13242</td>\n",
       "    </tr>\n",
       "    <tr>\n",
       "      <th>(380)가양점</th>\n",
       "      <td>11946</td>\n",
       "    </tr>\n",
       "    <tr>\n",
       "      <th>(470)성수점</th>\n",
       "      <td>11520</td>\n",
       "    </tr>\n",
       "    <tr>\n",
       "      <th>(660)연수점</th>\n",
       "      <td>10901</td>\n",
       "    </tr>\n",
       "    <tr>\n",
       "      <th>(962)경기광주점</th>\n",
       "      <td>10891</td>\n",
       "    </tr>\n",
       "    <tr>\n",
       "      <th>(840)월계점</th>\n",
       "      <td>10830</td>\n",
       "    </tr>\n",
       "    <tr>\n",
       "      <th>(690)고잔점</th>\n",
       "      <td>10812</td>\n",
       "    </tr>\n",
       "  </tbody>\n",
       "</table>\n",
       "</div>"
      ],
      "text/plain": [
       "            수량(int)\n",
       "지점                 \n",
       "(610)부천점      16879\n",
       "(600)안양점      15181\n",
       "(966)성남점      13804\n",
       "(550)은평점      13242\n",
       "(380)가양점      11946\n",
       "(470)성수점      11520\n",
       "(660)연수점      10901\n",
       "(962)경기광주점    10891\n",
       "(840)월계점      10830\n",
       "(690)고잔점      10812"
      ]
     },
     "execution_count": 58,
     "metadata": {},
     "output_type": "execute_result"
    }
   ],
   "source": [
    "pd.pivot_table(data=df5, index='지점',values='수량(int)',aggfunc='sum').sort_values(by='수량(int)',ascending=False).head(10)"
   ]
  },
  {
   "cell_type": "code",
   "execution_count": 59,
   "metadata": {
    "collapsed": true
   },
   "outputs": [
    {
     "data": {
      "text/html": [
       "<div>\n",
       "<style scoped>\n",
       "    .dataframe tbody tr th:only-of-type {\n",
       "        vertical-align: middle;\n",
       "    }\n",
       "\n",
       "    .dataframe tbody tr th {\n",
       "        vertical-align: top;\n",
       "    }\n",
       "\n",
       "    .dataframe thead th {\n",
       "        text-align: right;\n",
       "    }\n",
       "</style>\n",
       "<table border=\"1\" class=\"dataframe\">\n",
       "  <thead>\n",
       "    <tr style=\"text-align: right;\">\n",
       "      <th></th>\n",
       "      <th></th>\n",
       "      <th></th>\n",
       "      <th>수량(int)</th>\n",
       "    </tr>\n",
       "    <tr>\n",
       "      <th>지점</th>\n",
       "      <th>상품명</th>\n",
       "      <th>제품타입</th>\n",
       "      <th></th>\n",
       "    </tr>\n",
       "  </thead>\n",
       "  <tbody>\n",
       "    <tr>\n",
       "      <th>(610)부천점</th>\n",
       "      <th>CAT2 500ml(신)</th>\n",
       "      <th>C Type</th>\n",
       "      <td>3984</td>\n",
       "    </tr>\n",
       "    <tr>\n",
       "      <th>(700)문현점</th>\n",
       "      <th>CAT2 500ml(신)</th>\n",
       "      <th>C Type</th>\n",
       "      <td>3586</td>\n",
       "    </tr>\n",
       "    <tr>\n",
       "      <th>(750)사상점</th>\n",
       "      <th>CAT2 500ml(신)</th>\n",
       "      <th>C Type</th>\n",
       "      <td>3410</td>\n",
       "    </tr>\n",
       "    <tr>\n",
       "      <th>(900)순천점</th>\n",
       "      <th>CAT2 500ml(신)</th>\n",
       "      <th>C Type</th>\n",
       "      <td>3235</td>\n",
       "    </tr>\n",
       "    <tr>\n",
       "      <th>(601)시화점</th>\n",
       "      <th>CAT2 500ml</th>\n",
       "      <th>C Type</th>\n",
       "      <td>3054</td>\n",
       "    </tr>\n",
       "    <tr>\n",
       "      <th>(966)성남점</th>\n",
       "      <th>CAT2 500ml(신)</th>\n",
       "      <th>C Type</th>\n",
       "      <td>2952</td>\n",
       "    </tr>\n",
       "    <tr>\n",
       "      <th>(560)여수점</th>\n",
       "      <th>CAT2 500ml(신)</th>\n",
       "      <th>C Type</th>\n",
       "      <td>2885</td>\n",
       "    </tr>\n",
       "    <tr>\n",
       "      <th>(959)목동점</th>\n",
       "      <th>BW1 740ml</th>\n",
       "      <th>B Type</th>\n",
       "      <td>2837</td>\n",
       "    </tr>\n",
       "    <tr>\n",
       "      <th>(580)연제점</th>\n",
       "      <th>CAT2 500ml(신)</th>\n",
       "      <th>C Type</th>\n",
       "      <td>2639</td>\n",
       "    </tr>\n",
       "    <tr>\n",
       "      <th>(600)안양점</th>\n",
       "      <th>CAT1 1.0L</th>\n",
       "      <th>C Type</th>\n",
       "      <td>2637</td>\n",
       "    </tr>\n",
       "  </tbody>\n",
       "</table>\n",
       "</div>"
      ],
      "text/plain": [
       "                               수량(int)\n",
       "지점       상품명           제품타입           \n",
       "(610)부천점 CAT2 500ml(신) C Type     3984\n",
       "(700)문현점 CAT2 500ml(신) C Type     3586\n",
       "(750)사상점 CAT2 500ml(신) C Type     3410\n",
       "(900)순천점 CAT2 500ml(신) C Type     3235\n",
       "(601)시화점 CAT2 500ml    C Type     3054\n",
       "(966)성남점 CAT2 500ml(신) C Type     2952\n",
       "(560)여수점 CAT2 500ml(신) C Type     2885\n",
       "(959)목동점 BW1 740ml     B Type     2837\n",
       "(580)연제점 CAT2 500ml(신) C Type     2639\n",
       "(600)안양점 CAT1 1.0L     C Type     2637"
      ]
     },
     "execution_count": 59,
     "metadata": {},
     "output_type": "execute_result"
    }
   ],
   "source": [
    "pd.pivot_table(data=df5, index=['지점','상품명','제품타입'],values='수량(int)',aggfunc='sum').sort_values(by='수량(int)',ascending=False).head(10)"
   ]
  },
  {
   "cell_type": "code",
   "execution_count": 64,
   "metadata": {},
   "outputs": [
    {
     "data": {
      "text/html": [
       "<div>\n",
       "<style scoped>\n",
       "    .dataframe tbody tr th:only-of-type {\n",
       "        vertical-align: middle;\n",
       "    }\n",
       "\n",
       "    .dataframe tbody tr th {\n",
       "        vertical-align: top;\n",
       "    }\n",
       "\n",
       "    .dataframe thead th {\n",
       "        text-align: right;\n",
       "    }\n",
       "</style>\n",
       "<table border=\"1\" class=\"dataframe\">\n",
       "  <thead>\n",
       "    <tr style=\"text-align: right;\">\n",
       "      <th></th>\n",
       "      <th>지점</th>\n",
       "      <th>상품명</th>\n",
       "      <th>제품타입</th>\n",
       "      <th>수량(int)</th>\n",
       "    </tr>\n",
       "  </thead>\n",
       "  <tbody>\n",
       "    <tr>\n",
       "      <th>0</th>\n",
       "      <td>(610)부천점</td>\n",
       "      <td>CAT2 500ml(신)</td>\n",
       "      <td>C Type</td>\n",
       "      <td>3984</td>\n",
       "    </tr>\n",
       "    <tr>\n",
       "      <th>1</th>\n",
       "      <td>(700)문현점</td>\n",
       "      <td>CAT2 500ml(신)</td>\n",
       "      <td>C Type</td>\n",
       "      <td>3586</td>\n",
       "    </tr>\n",
       "    <tr>\n",
       "      <th>2</th>\n",
       "      <td>(750)사상점</td>\n",
       "      <td>CAT2 500ml(신)</td>\n",
       "      <td>C Type</td>\n",
       "      <td>3410</td>\n",
       "    </tr>\n",
       "    <tr>\n",
       "      <th>3</th>\n",
       "      <td>(900)순천점</td>\n",
       "      <td>CAT2 500ml(신)</td>\n",
       "      <td>C Type</td>\n",
       "      <td>3235</td>\n",
       "    </tr>\n",
       "    <tr>\n",
       "      <th>4</th>\n",
       "      <td>(601)시화점</td>\n",
       "      <td>CAT2 500ml</td>\n",
       "      <td>C Type</td>\n",
       "      <td>3054</td>\n",
       "    </tr>\n",
       "    <tr>\n",
       "      <th>5</th>\n",
       "      <td>(966)성남점</td>\n",
       "      <td>CAT2 500ml(신)</td>\n",
       "      <td>C Type</td>\n",
       "      <td>2952</td>\n",
       "    </tr>\n",
       "    <tr>\n",
       "      <th>6</th>\n",
       "      <td>(560)여수점</td>\n",
       "      <td>CAT2 500ml(신)</td>\n",
       "      <td>C Type</td>\n",
       "      <td>2885</td>\n",
       "    </tr>\n",
       "    <tr>\n",
       "      <th>7</th>\n",
       "      <td>(959)목동점</td>\n",
       "      <td>BW1 740ml</td>\n",
       "      <td>B Type</td>\n",
       "      <td>2837</td>\n",
       "    </tr>\n",
       "    <tr>\n",
       "      <th>8</th>\n",
       "      <td>(580)연제점</td>\n",
       "      <td>CAT2 500ml(신)</td>\n",
       "      <td>C Type</td>\n",
       "      <td>2639</td>\n",
       "    </tr>\n",
       "    <tr>\n",
       "      <th>9</th>\n",
       "      <td>(600)안양점</td>\n",
       "      <td>CAT1 1.0L</td>\n",
       "      <td>C Type</td>\n",
       "      <td>2637</td>\n",
       "    </tr>\n",
       "    <tr>\n",
       "      <th>10</th>\n",
       "      <td>(150)E/T구성점</td>\n",
       "      <td>BW1 740ml*3캔_Traders</td>\n",
       "      <td>B Type</td>\n",
       "      <td>2508</td>\n",
       "    </tr>\n",
       "    <tr>\n",
       "      <th>11</th>\n",
       "      <td>(1413)E/T스타필드고양점</td>\n",
       "      <td>BW1 740ml*3캔_Traders</td>\n",
       "      <td>B Type</td>\n",
       "      <td>2505</td>\n",
       "    </tr>\n",
       "    <tr>\n",
       "      <th>12</th>\n",
       "      <td>(400)상봉점</td>\n",
       "      <td>CAT2 500ml(신)</td>\n",
       "      <td>C Type</td>\n",
       "      <td>2429</td>\n",
       "    </tr>\n",
       "    <tr>\n",
       "      <th>13</th>\n",
       "      <td>(1412)E/T스타필드하남점</td>\n",
       "      <td>BW1 740ml*3캔_Traders</td>\n",
       "      <td>B Type</td>\n",
       "      <td>2373</td>\n",
       "    </tr>\n",
       "    <tr>\n",
       "      <th>14</th>\n",
       "      <td>(966)성남점</td>\n",
       "      <td>CAT2 500ml</td>\n",
       "      <td>C Type</td>\n",
       "      <td>2245</td>\n",
       "    </tr>\n",
       "    <tr>\n",
       "      <th>15</th>\n",
       "      <td>(600)안양점</td>\n",
       "      <td>CAT2 500ml</td>\n",
       "      <td>C Type</td>\n",
       "      <td>2225</td>\n",
       "    </tr>\n",
       "    <tr>\n",
       "      <th>16</th>\n",
       "      <td>(150)E/T구성점</td>\n",
       "      <td>STL 500ml*6캔_Traders</td>\n",
       "      <td>S Type</td>\n",
       "      <td>2174</td>\n",
       "    </tr>\n",
       "    <tr>\n",
       "      <th>17</th>\n",
       "      <td>(550)은평점</td>\n",
       "      <td>CAT1 1.0L</td>\n",
       "      <td>C Type</td>\n",
       "      <td>2120</td>\n",
       "    </tr>\n",
       "    <tr>\n",
       "      <th>18</th>\n",
       "      <td>(740)속초점</td>\n",
       "      <td>CAT2 500ml</td>\n",
       "      <td>C Type</td>\n",
       "      <td>2110</td>\n",
       "    </tr>\n",
       "    <tr>\n",
       "      <th>19</th>\n",
       "      <td>(610)부천점</td>\n",
       "      <td>CAT1 1.0L</td>\n",
       "      <td>C Type</td>\n",
       "      <td>2097</td>\n",
       "    </tr>\n",
       "  </tbody>\n",
       "</table>\n",
       "</div>"
      ],
      "text/plain": [
       "                  지점                   상품명    제품타입  수량(int)\n",
       "0           (610)부천점         CAT2 500ml(신)  C Type     3984\n",
       "1           (700)문현점         CAT2 500ml(신)  C Type     3586\n",
       "2           (750)사상점         CAT2 500ml(신)  C Type     3410\n",
       "3           (900)순천점         CAT2 500ml(신)  C Type     3235\n",
       "4           (601)시화점            CAT2 500ml  C Type     3054\n",
       "5           (966)성남점         CAT2 500ml(신)  C Type     2952\n",
       "6           (560)여수점         CAT2 500ml(신)  C Type     2885\n",
       "7           (959)목동점             BW1 740ml  B Type     2837\n",
       "8           (580)연제점         CAT2 500ml(신)  C Type     2639\n",
       "9           (600)안양점             CAT1 1.0L  C Type     2637\n",
       "10       (150)E/T구성점  BW1 740ml*3캔_Traders  B Type     2508\n",
       "11  (1413)E/T스타필드고양점  BW1 740ml*3캔_Traders  B Type     2505\n",
       "12          (400)상봉점         CAT2 500ml(신)  C Type     2429\n",
       "13  (1412)E/T스타필드하남점  BW1 740ml*3캔_Traders  B Type     2373\n",
       "14          (966)성남점            CAT2 500ml  C Type     2245\n",
       "15          (600)안양점            CAT2 500ml  C Type     2225\n",
       "16       (150)E/T구성점  STL 500ml*6캔_Traders  S Type     2174\n",
       "17          (550)은평점             CAT1 1.0L  C Type     2120\n",
       "18          (740)속초점            CAT2 500ml  C Type     2110\n",
       "19          (610)부천점             CAT1 1.0L  C Type     2097"
      ]
     },
     "execution_count": 64,
     "metadata": {},
     "output_type": "execute_result"
    }
   ],
   "source": [
    "df6 = pd.pivot_table(data=df5, index=['지점','상품명','제품타입'],values='수량(int)',aggfunc='sum').sort_values(by='수량(int)',ascending=False).head(20).reset_index()\n",
    "df6"
   ]
  },
  {
   "cell_type": "code",
   "execution_count": 70,
   "metadata": {},
   "outputs": [],
   "source": [
    "df6.to_csv('DASH/result0219.csv')"
   ]
  },
  {
   "cell_type": "markdown",
   "metadata": {},
   "source": [
    "# Python Plotly / Dash \n",
    "\n",
    "* Dash  : https://dash.plotly.com/layout\n",
    "* Plotly : https://medium.com/plotly"
   ]
  },
  {
   "cell_type": "code",
   "execution_count": 40,
   "metadata": {
    "collapsed": true
   },
   "outputs": [
    {
     "name": "stdout",
     "output_type": "stream",
     "text": [
      "Collecting plotly\n",
      "  Downloading plotly-4.14.3-py2.py3-none-any.whl (13.2 MB)\n",
      "Requirement already satisfied: six in c:\\programdata\\anaconda3\\lib\\site-packages (from plotly) (1.15.0)\n",
      "Collecting retrying>=1.3.3\n",
      "  Using cached retrying-1.3.3.tar.gz (10 kB)\n",
      "Building wheels for collected packages: retrying\n",
      "  Building wheel for retrying (setup.py): started\n",
      "  Building wheel for retrying (setup.py): finished with status 'done'\n",
      "  Created wheel for retrying: filename=retrying-1.3.3-py3-none-any.whl size=11434 sha256=f63eacc9e624e6ff809231c40409919383e10a5a1c0246f23c5c4eb4828883de\n",
      "  Stored in directory: c:\\users\\ainbd\\appdata\\local\\pip\\cache\\wheels\\c4\\a7\\48\\0a434133f6d56e878ca511c0e6c38326907c0792f67b476e56\n",
      "Successfully built retrying\n",
      "Installing collected packages: retrying, plotly\n",
      "Successfully installed plotly-4.14.3 retrying-1.3.3\n",
      "Note: you may need to restart the kernel to use updated packages.\n"
     ]
    }
   ],
   "source": [
    "# !pip install --user plotly"
   ]
  },
  {
   "cell_type": "code",
   "execution_count": 66,
   "metadata": {
    "collapsed": true
   },
   "outputs": [
    {
     "name": "stdout",
     "output_type": "stream",
     "text": [
      "Collecting dash\n",
      "  Downloading dash-1.19.0.tar.gz (75 kB)\n",
      "Requirement already satisfied: Flask>=1.0.4 in c:\\programdata\\anaconda3\\lib\\site-packages (from dash) (1.1.2)\n",
      "Collecting flask-compress\n",
      "  Downloading Flask-Compress-1.9.0.tar.gz (10 kB)\n",
      "Requirement already satisfied: plotly in c:\\users\\ainbd\\appdata\\roaming\\python\\python38\\site-packages (from dash) (4.14.3)\n",
      "Collecting dash_renderer==1.9.0\n",
      "  Downloading dash_renderer-1.9.0.tar.gz (1.0 MB)\n",
      "Collecting dash-core-components==1.15.0\n",
      "  Downloading dash_core_components-1.15.0.tar.gz (3.5 MB)\n",
      "Collecting dash-html-components==1.1.2\n",
      "  Downloading dash_html_components-1.1.2.tar.gz (188 kB)\n",
      "Collecting dash-table==4.11.2\n",
      "  Downloading dash_table-4.11.2.tar.gz (1.8 MB)\n",
      "Requirement already satisfied: future in c:\\programdata\\anaconda3\\lib\\site-packages (from dash) (0.18.2)\n",
      "Requirement already satisfied: Jinja2>=2.10.1 in c:\\programdata\\anaconda3\\lib\\site-packages (from Flask>=1.0.4->dash) (2.11.2)\n",
      "Requirement already satisfied: Werkzeug>=0.15 in c:\\programdata\\anaconda3\\lib\\site-packages (from Flask>=1.0.4->dash) (1.0.1)\n",
      "Requirement already satisfied: click>=5.1 in c:\\programdata\\anaconda3\\lib\\site-packages (from Flask>=1.0.4->dash) (7.1.2)\n",
      "Requirement already satisfied: itsdangerous>=0.24 in c:\\programdata\\anaconda3\\lib\\site-packages (from Flask>=1.0.4->dash) (1.1.0)\n",
      "Collecting brotli\n",
      "  Downloading Brotli-1.0.9-cp38-cp38-win_amd64.whl (365 kB)\n",
      "Requirement already satisfied: six in c:\\programdata\\anaconda3\\lib\\site-packages (from plotly->dash) (1.15.0)\n",
      "Requirement already satisfied: retrying>=1.3.3 in c:\\users\\ainbd\\appdata\\roaming\\python\\python38\\site-packages (from plotly->dash) (1.3.3)\n",
      "Requirement already satisfied: MarkupSafe>=0.23 in c:\\programdata\\anaconda3\\lib\\site-packages (from Jinja2>=2.10.1->Flask>=1.0.4->dash) (1.1.1)\n",
      "Building wheels for collected packages: dash, flask-compress, dash-renderer, dash-core-components, dash-html-components, dash-table\n",
      "  Building wheel for dash (setup.py): started\n",
      "  Building wheel for dash (setup.py): finished with status 'done'\n",
      "  Created wheel for dash: filename=dash-1.19.0-py3-none-any.whl size=84016 sha256=c75de1e90124aa927f78776c7ece1d9e595415b6f3c4c575c0059c351efb4734\n",
      "  Stored in directory: c:\\users\\ainbd\\appdata\\local\\pip\\cache\\wheels\\e7\\27\\2f\\a9f9bf858843b5365bcb311a80f0b2379737caf4ec50b2ae3a\n",
      "  Building wheel for flask-compress (setup.py): started\n",
      "  Building wheel for flask-compress (setup.py): finished with status 'done'\n",
      "  Created wheel for flask-compress: filename=Flask_Compress-1.9.0-py3-none-any.whl size=7262 sha256=54703b81b0c519142ef32b79e2927bfcd5ec3e0257585c7dedb487aac5ca2100\n",
      "  Stored in directory: c:\\users\\ainbd\\appdata\\local\\pip\\cache\\wheels\\c6\\05\\75\\97e2cade6f5140199c8f49d11180883387042a1e5f0d117aba\n",
      "  Building wheel for dash-renderer (setup.py): started\n",
      "  Building wheel for dash-renderer (setup.py): finished with status 'done'\n",
      "  Created wheel for dash-renderer: filename=dash_renderer-1.9.0-py3-none-any.whl size=1014874 sha256=f9744e646cafaf6ebec68ab4d64d139f8c04de32177358ae104c1d05038ad1d9\n",
      "  Stored in directory: c:\\users\\ainbd\\appdata\\local\\pip\\cache\\wheels\\08\\94\\09\\e11ba8ae5d97e1c8ff5be0ac1f7cf42642eec6ea94ed1e4b44\n",
      "  Building wheel for dash-core-components (setup.py): started\n",
      "  Building wheel for dash-core-components (setup.py): finished with status 'done'\n",
      "  Created wheel for dash-core-components: filename=dash_core_components-1.15.0-py3-none-any.whl size=3527018 sha256=ef17b9b3d89555fa09bac60dc916135a9422a605ba51ad0fa409a156a954f518\n",
      "  Stored in directory: c:\\users\\ainbd\\appdata\\local\\pip\\cache\\wheels\\e3\\e6\\0e\\759ca580c568aad2436521fa6df67f53a141dc1ab8f040c4c7\n",
      "  Building wheel for dash-html-components (setup.py): started\n",
      "  Building wheel for dash-html-components (setup.py): finished with status 'done'\n",
      "  Created wheel for dash-html-components: filename=dash_html_components-1.1.2-py3-none-any.whl size=427836 sha256=443810211d87e022ce8896bfa311196179b99904339da77884a68a8c0e2be980\n",
      "  Stored in directory: c:\\users\\ainbd\\appdata\\local\\pip\\cache\\wheels\\8a\\bc\\a8\\7ad1d354777cfe77413fd7a092e07d7cc82f88f98997f4c463\n",
      "  Building wheel for dash-table (setup.py): started\n",
      "  Building wheel for dash-table (setup.py): finished with status 'done'\n",
      "  Created wheel for dash-table: filename=dash_table-4.11.2-py3-none-any.whl size=1839873 sha256=700bd255d0f83959e959120650fe56110efc6cb99b183d6061fd899781b330a0\n",
      "  Stored in directory: c:\\users\\ainbd\\appdata\\local\\pip\\cache\\wheels\\cc\\1d\\a0\\720dcf854e410eddbe44f8434f4d3a6332fdd085178eeac4f9\n",
      "Successfully built dash flask-compress dash-renderer dash-core-components dash-html-components dash-table\n",
      "Installing collected packages: brotli, flask-compress, dash-renderer, dash-core-components, dash-html-components, dash-table, dash\n",
      "Successfully installed brotli-1.0.9 dash-1.19.0 dash-core-components-1.15.0 dash-html-components-1.1.2 dash-renderer-1.9.0 dash-table-4.11.2 flask-compress-1.9.0\n",
      "Note: you may need to restart the kernel to use updated packages.\n"
     ]
    }
   ],
   "source": [
    "# !pip install --user dash"
   ]
  },
  {
   "cell_type": "code",
   "execution_count": 41,
   "metadata": {},
   "outputs": [],
   "source": [
    "import plotly.express as px"
   ]
  },
  {
   "cell_type": "code",
   "execution_count": 65,
   "metadata": {
    "collapsed": true
   },
   "outputs": [
    {
     "data": {
      "application/vnd.plotly.v1+json": {
       "config": {
        "plotlyServerURL": "https://plot.ly"
       },
       "data": [
        {
         "alignmentgroup": "True",
         "hovertemplate": "제품타입=C Type<br>지점=%{x}<br>수량(int)=%{y}<extra></extra>",
         "legendgroup": "C Type",
         "marker": {
          "color": "#636efa"
         },
         "name": "C Type",
         "offsetgroup": "C Type",
         "orientation": "v",
         "showlegend": true,
         "textposition": "auto",
         "type": "bar",
         "x": [
          "(610)부천점",
          "(700)문현점",
          "(750)사상점",
          "(900)순천점",
          "(601)시화점",
          "(966)성남점",
          "(560)여수점",
          "(580)연제점",
          "(600)안양점",
          "(400)상봉점",
          "(966)성남점",
          "(600)안양점",
          "(550)은평점",
          "(740)속초점",
          "(610)부천점"
         ],
         "xaxis": "x",
         "y": [
          3984,
          3586,
          3410,
          3235,
          3054,
          2952,
          2885,
          2639,
          2637,
          2429,
          2245,
          2225,
          2120,
          2110,
          2097
         ],
         "yaxis": "y"
        },
        {
         "alignmentgroup": "True",
         "hovertemplate": "제품타입=B Type<br>지점=%{x}<br>수량(int)=%{y}<extra></extra>",
         "legendgroup": "B Type",
         "marker": {
          "color": "#EF553B"
         },
         "name": "B Type",
         "offsetgroup": "B Type",
         "orientation": "v",
         "showlegend": true,
         "textposition": "auto",
         "type": "bar",
         "x": [
          "(959)목동점",
          "(150)E/T구성점",
          "(1413)E/T스타필드고양점",
          "(1412)E/T스타필드하남점"
         ],
         "xaxis": "x",
         "y": [
          2837,
          2508,
          2505,
          2373
         ],
         "yaxis": "y"
        },
        {
         "alignmentgroup": "True",
         "hovertemplate": "제품타입=S Type<br>지점=%{x}<br>수량(int)=%{y}<extra></extra>",
         "legendgroup": "S Type",
         "marker": {
          "color": "#00cc96"
         },
         "name": "S Type",
         "offsetgroup": "S Type",
         "orientation": "v",
         "showlegend": true,
         "textposition": "auto",
         "type": "bar",
         "x": [
          "(150)E/T구성점"
         ],
         "xaxis": "x",
         "y": [
          2174
         ],
         "yaxis": "y"
        }
       ],
       "layout": {
        "barmode": "relative",
        "legend": {
         "title": {
          "text": "제품타입"
         },
         "tracegroupgap": 0
        },
        "margin": {
         "t": 60
        },
        "template": {
         "data": {
          "bar": [
           {
            "error_x": {
             "color": "#2a3f5f"
            },
            "error_y": {
             "color": "#2a3f5f"
            },
            "marker": {
             "line": {
              "color": "#E5ECF6",
              "width": 0.5
             }
            },
            "type": "bar"
           }
          ],
          "barpolar": [
           {
            "marker": {
             "line": {
              "color": "#E5ECF6",
              "width": 0.5
             }
            },
            "type": "barpolar"
           }
          ],
          "carpet": [
           {
            "aaxis": {
             "endlinecolor": "#2a3f5f",
             "gridcolor": "white",
             "linecolor": "white",
             "minorgridcolor": "white",
             "startlinecolor": "#2a3f5f"
            },
            "baxis": {
             "endlinecolor": "#2a3f5f",
             "gridcolor": "white",
             "linecolor": "white",
             "minorgridcolor": "white",
             "startlinecolor": "#2a3f5f"
            },
            "type": "carpet"
           }
          ],
          "choropleth": [
           {
            "colorbar": {
             "outlinewidth": 0,
             "ticks": ""
            },
            "type": "choropleth"
           }
          ],
          "contour": [
           {
            "colorbar": {
             "outlinewidth": 0,
             "ticks": ""
            },
            "colorscale": [
             [
              0,
              "#0d0887"
             ],
             [
              0.1111111111111111,
              "#46039f"
             ],
             [
              0.2222222222222222,
              "#7201a8"
             ],
             [
              0.3333333333333333,
              "#9c179e"
             ],
             [
              0.4444444444444444,
              "#bd3786"
             ],
             [
              0.5555555555555556,
              "#d8576b"
             ],
             [
              0.6666666666666666,
              "#ed7953"
             ],
             [
              0.7777777777777778,
              "#fb9f3a"
             ],
             [
              0.8888888888888888,
              "#fdca26"
             ],
             [
              1,
              "#f0f921"
             ]
            ],
            "type": "contour"
           }
          ],
          "contourcarpet": [
           {
            "colorbar": {
             "outlinewidth": 0,
             "ticks": ""
            },
            "type": "contourcarpet"
           }
          ],
          "heatmap": [
           {
            "colorbar": {
             "outlinewidth": 0,
             "ticks": ""
            },
            "colorscale": [
             [
              0,
              "#0d0887"
             ],
             [
              0.1111111111111111,
              "#46039f"
             ],
             [
              0.2222222222222222,
              "#7201a8"
             ],
             [
              0.3333333333333333,
              "#9c179e"
             ],
             [
              0.4444444444444444,
              "#bd3786"
             ],
             [
              0.5555555555555556,
              "#d8576b"
             ],
             [
              0.6666666666666666,
              "#ed7953"
             ],
             [
              0.7777777777777778,
              "#fb9f3a"
             ],
             [
              0.8888888888888888,
              "#fdca26"
             ],
             [
              1,
              "#f0f921"
             ]
            ],
            "type": "heatmap"
           }
          ],
          "heatmapgl": [
           {
            "colorbar": {
             "outlinewidth": 0,
             "ticks": ""
            },
            "colorscale": [
             [
              0,
              "#0d0887"
             ],
             [
              0.1111111111111111,
              "#46039f"
             ],
             [
              0.2222222222222222,
              "#7201a8"
             ],
             [
              0.3333333333333333,
              "#9c179e"
             ],
             [
              0.4444444444444444,
              "#bd3786"
             ],
             [
              0.5555555555555556,
              "#d8576b"
             ],
             [
              0.6666666666666666,
              "#ed7953"
             ],
             [
              0.7777777777777778,
              "#fb9f3a"
             ],
             [
              0.8888888888888888,
              "#fdca26"
             ],
             [
              1,
              "#f0f921"
             ]
            ],
            "type": "heatmapgl"
           }
          ],
          "histogram": [
           {
            "marker": {
             "colorbar": {
              "outlinewidth": 0,
              "ticks": ""
             }
            },
            "type": "histogram"
           }
          ],
          "histogram2d": [
           {
            "colorbar": {
             "outlinewidth": 0,
             "ticks": ""
            },
            "colorscale": [
             [
              0,
              "#0d0887"
             ],
             [
              0.1111111111111111,
              "#46039f"
             ],
             [
              0.2222222222222222,
              "#7201a8"
             ],
             [
              0.3333333333333333,
              "#9c179e"
             ],
             [
              0.4444444444444444,
              "#bd3786"
             ],
             [
              0.5555555555555556,
              "#d8576b"
             ],
             [
              0.6666666666666666,
              "#ed7953"
             ],
             [
              0.7777777777777778,
              "#fb9f3a"
             ],
             [
              0.8888888888888888,
              "#fdca26"
             ],
             [
              1,
              "#f0f921"
             ]
            ],
            "type": "histogram2d"
           }
          ],
          "histogram2dcontour": [
           {
            "colorbar": {
             "outlinewidth": 0,
             "ticks": ""
            },
            "colorscale": [
             [
              0,
              "#0d0887"
             ],
             [
              0.1111111111111111,
              "#46039f"
             ],
             [
              0.2222222222222222,
              "#7201a8"
             ],
             [
              0.3333333333333333,
              "#9c179e"
             ],
             [
              0.4444444444444444,
              "#bd3786"
             ],
             [
              0.5555555555555556,
              "#d8576b"
             ],
             [
              0.6666666666666666,
              "#ed7953"
             ],
             [
              0.7777777777777778,
              "#fb9f3a"
             ],
             [
              0.8888888888888888,
              "#fdca26"
             ],
             [
              1,
              "#f0f921"
             ]
            ],
            "type": "histogram2dcontour"
           }
          ],
          "mesh3d": [
           {
            "colorbar": {
             "outlinewidth": 0,
             "ticks": ""
            },
            "type": "mesh3d"
           }
          ],
          "parcoords": [
           {
            "line": {
             "colorbar": {
              "outlinewidth": 0,
              "ticks": ""
             }
            },
            "type": "parcoords"
           }
          ],
          "pie": [
           {
            "automargin": true,
            "type": "pie"
           }
          ],
          "scatter": [
           {
            "marker": {
             "colorbar": {
              "outlinewidth": 0,
              "ticks": ""
             }
            },
            "type": "scatter"
           }
          ],
          "scatter3d": [
           {
            "line": {
             "colorbar": {
              "outlinewidth": 0,
              "ticks": ""
             }
            },
            "marker": {
             "colorbar": {
              "outlinewidth": 0,
              "ticks": ""
             }
            },
            "type": "scatter3d"
           }
          ],
          "scattercarpet": [
           {
            "marker": {
             "colorbar": {
              "outlinewidth": 0,
              "ticks": ""
             }
            },
            "type": "scattercarpet"
           }
          ],
          "scattergeo": [
           {
            "marker": {
             "colorbar": {
              "outlinewidth": 0,
              "ticks": ""
             }
            },
            "type": "scattergeo"
           }
          ],
          "scattergl": [
           {
            "marker": {
             "colorbar": {
              "outlinewidth": 0,
              "ticks": ""
             }
            },
            "type": "scattergl"
           }
          ],
          "scattermapbox": [
           {
            "marker": {
             "colorbar": {
              "outlinewidth": 0,
              "ticks": ""
             }
            },
            "type": "scattermapbox"
           }
          ],
          "scatterpolar": [
           {
            "marker": {
             "colorbar": {
              "outlinewidth": 0,
              "ticks": ""
             }
            },
            "type": "scatterpolar"
           }
          ],
          "scatterpolargl": [
           {
            "marker": {
             "colorbar": {
              "outlinewidth": 0,
              "ticks": ""
             }
            },
            "type": "scatterpolargl"
           }
          ],
          "scatterternary": [
           {
            "marker": {
             "colorbar": {
              "outlinewidth": 0,
              "ticks": ""
             }
            },
            "type": "scatterternary"
           }
          ],
          "surface": [
           {
            "colorbar": {
             "outlinewidth": 0,
             "ticks": ""
            },
            "colorscale": [
             [
              0,
              "#0d0887"
             ],
             [
              0.1111111111111111,
              "#46039f"
             ],
             [
              0.2222222222222222,
              "#7201a8"
             ],
             [
              0.3333333333333333,
              "#9c179e"
             ],
             [
              0.4444444444444444,
              "#bd3786"
             ],
             [
              0.5555555555555556,
              "#d8576b"
             ],
             [
              0.6666666666666666,
              "#ed7953"
             ],
             [
              0.7777777777777778,
              "#fb9f3a"
             ],
             [
              0.8888888888888888,
              "#fdca26"
             ],
             [
              1,
              "#f0f921"
             ]
            ],
            "type": "surface"
           }
          ],
          "table": [
           {
            "cells": {
             "fill": {
              "color": "#EBF0F8"
             },
             "line": {
              "color": "white"
             }
            },
            "header": {
             "fill": {
              "color": "#C8D4E3"
             },
             "line": {
              "color": "white"
             }
            },
            "type": "table"
           }
          ]
         },
         "layout": {
          "annotationdefaults": {
           "arrowcolor": "#2a3f5f",
           "arrowhead": 0,
           "arrowwidth": 1
          },
          "autotypenumbers": "strict",
          "coloraxis": {
           "colorbar": {
            "outlinewidth": 0,
            "ticks": ""
           }
          },
          "colorscale": {
           "diverging": [
            [
             0,
             "#8e0152"
            ],
            [
             0.1,
             "#c51b7d"
            ],
            [
             0.2,
             "#de77ae"
            ],
            [
             0.3,
             "#f1b6da"
            ],
            [
             0.4,
             "#fde0ef"
            ],
            [
             0.5,
             "#f7f7f7"
            ],
            [
             0.6,
             "#e6f5d0"
            ],
            [
             0.7,
             "#b8e186"
            ],
            [
             0.8,
             "#7fbc41"
            ],
            [
             0.9,
             "#4d9221"
            ],
            [
             1,
             "#276419"
            ]
           ],
           "sequential": [
            [
             0,
             "#0d0887"
            ],
            [
             0.1111111111111111,
             "#46039f"
            ],
            [
             0.2222222222222222,
             "#7201a8"
            ],
            [
             0.3333333333333333,
             "#9c179e"
            ],
            [
             0.4444444444444444,
             "#bd3786"
            ],
            [
             0.5555555555555556,
             "#d8576b"
            ],
            [
             0.6666666666666666,
             "#ed7953"
            ],
            [
             0.7777777777777778,
             "#fb9f3a"
            ],
            [
             0.8888888888888888,
             "#fdca26"
            ],
            [
             1,
             "#f0f921"
            ]
           ],
           "sequentialminus": [
            [
             0,
             "#0d0887"
            ],
            [
             0.1111111111111111,
             "#46039f"
            ],
            [
             0.2222222222222222,
             "#7201a8"
            ],
            [
             0.3333333333333333,
             "#9c179e"
            ],
            [
             0.4444444444444444,
             "#bd3786"
            ],
            [
             0.5555555555555556,
             "#d8576b"
            ],
            [
             0.6666666666666666,
             "#ed7953"
            ],
            [
             0.7777777777777778,
             "#fb9f3a"
            ],
            [
             0.8888888888888888,
             "#fdca26"
            ],
            [
             1,
             "#f0f921"
            ]
           ]
          },
          "colorway": [
           "#636efa",
           "#EF553B",
           "#00cc96",
           "#ab63fa",
           "#FFA15A",
           "#19d3f3",
           "#FF6692",
           "#B6E880",
           "#FF97FF",
           "#FECB52"
          ],
          "font": {
           "color": "#2a3f5f"
          },
          "geo": {
           "bgcolor": "white",
           "lakecolor": "white",
           "landcolor": "#E5ECF6",
           "showlakes": true,
           "showland": true,
           "subunitcolor": "white"
          },
          "hoverlabel": {
           "align": "left"
          },
          "hovermode": "closest",
          "mapbox": {
           "style": "light"
          },
          "paper_bgcolor": "white",
          "plot_bgcolor": "#E5ECF6",
          "polar": {
           "angularaxis": {
            "gridcolor": "white",
            "linecolor": "white",
            "ticks": ""
           },
           "bgcolor": "#E5ECF6",
           "radialaxis": {
            "gridcolor": "white",
            "linecolor": "white",
            "ticks": ""
           }
          },
          "scene": {
           "xaxis": {
            "backgroundcolor": "#E5ECF6",
            "gridcolor": "white",
            "gridwidth": 2,
            "linecolor": "white",
            "showbackground": true,
            "ticks": "",
            "zerolinecolor": "white"
           },
           "yaxis": {
            "backgroundcolor": "#E5ECF6",
            "gridcolor": "white",
            "gridwidth": 2,
            "linecolor": "white",
            "showbackground": true,
            "ticks": "",
            "zerolinecolor": "white"
           },
           "zaxis": {
            "backgroundcolor": "#E5ECF6",
            "gridcolor": "white",
            "gridwidth": 2,
            "linecolor": "white",
            "showbackground": true,
            "ticks": "",
            "zerolinecolor": "white"
           }
          },
          "shapedefaults": {
           "line": {
            "color": "#2a3f5f"
           }
          },
          "ternary": {
           "aaxis": {
            "gridcolor": "white",
            "linecolor": "white",
            "ticks": ""
           },
           "baxis": {
            "gridcolor": "white",
            "linecolor": "white",
            "ticks": ""
           },
           "bgcolor": "#E5ECF6",
           "caxis": {
            "gridcolor": "white",
            "linecolor": "white",
            "ticks": ""
           }
          },
          "title": {
           "x": 0.05
          },
          "xaxis": {
           "automargin": true,
           "gridcolor": "white",
           "linecolor": "white",
           "ticks": "",
           "title": {
            "standoff": 15
           },
           "zerolinecolor": "white",
           "zerolinewidth": 2
          },
          "yaxis": {
           "automargin": true,
           "gridcolor": "white",
           "linecolor": "white",
           "ticks": "",
           "title": {
            "standoff": 15
           },
           "zerolinecolor": "white",
           "zerolinewidth": 2
          }
         }
        },
        "xaxis": {
         "anchor": "y",
         "domain": [
          0,
          1
         ],
         "title": {
          "text": "지점"
         }
        },
        "yaxis": {
         "anchor": "x",
         "domain": [
          0,
          1
         ],
         "title": {
          "text": "수량(int)"
         }
        }
       }
      },
      "text/html": [
       "<div>                            <div id=\"b8e267ba-312e-43ee-9263-b739ac26b03a\" class=\"plotly-graph-div\" style=\"height:525px; width:100%;\"></div>            <script type=\"text/javascript\">                require([\"plotly\"], function(Plotly) {                    window.PLOTLYENV=window.PLOTLYENV || {};                                    if (document.getElementById(\"b8e267ba-312e-43ee-9263-b739ac26b03a\")) {                    Plotly.newPlot(                        \"b8e267ba-312e-43ee-9263-b739ac26b03a\",                        [{\"alignmentgroup\": \"True\", \"hovertemplate\": \"\\uc81c\\ud488\\ud0c0\\uc785=C Type<br>\\uc9c0\\uc810=%{x}<br>\\uc218\\ub7c9(int)=%{y}<extra></extra>\", \"legendgroup\": \"C Type\", \"marker\": {\"color\": \"#636efa\"}, \"name\": \"C Type\", \"offsetgroup\": \"C Type\", \"orientation\": \"v\", \"showlegend\": true, \"textposition\": \"auto\", \"type\": \"bar\", \"x\": [\"(610)\\ubd80\\ucc9c\\uc810\", \"(700)\\ubb38\\ud604\\uc810\", \"(750)\\uc0ac\\uc0c1\\uc810\", \"(900)\\uc21c\\ucc9c\\uc810\", \"(601)\\uc2dc\\ud654\\uc810\", \"(966)\\uc131\\ub0a8\\uc810\", \"(560)\\uc5ec\\uc218\\uc810\", \"(580)\\uc5f0\\uc81c\\uc810\", \"(600)\\uc548\\uc591\\uc810\", \"(400)\\uc0c1\\ubd09\\uc810\", \"(966)\\uc131\\ub0a8\\uc810\", \"(600)\\uc548\\uc591\\uc810\", \"(550)\\uc740\\ud3c9\\uc810\", \"(740)\\uc18d\\ucd08\\uc810\", \"(610)\\ubd80\\ucc9c\\uc810\"], \"xaxis\": \"x\", \"y\": [3984, 3586, 3410, 3235, 3054, 2952, 2885, 2639, 2637, 2429, 2245, 2225, 2120, 2110, 2097], \"yaxis\": \"y\"}, {\"alignmentgroup\": \"True\", \"hovertemplate\": \"\\uc81c\\ud488\\ud0c0\\uc785=B Type<br>\\uc9c0\\uc810=%{x}<br>\\uc218\\ub7c9(int)=%{y}<extra></extra>\", \"legendgroup\": \"B Type\", \"marker\": {\"color\": \"#EF553B\"}, \"name\": \"B Type\", \"offsetgroup\": \"B Type\", \"orientation\": \"v\", \"showlegend\": true, \"textposition\": \"auto\", \"type\": \"bar\", \"x\": [\"(959)\\ubaa9\\ub3d9\\uc810\", \"(150)E/T\\uad6c\\uc131\\uc810\", \"(1413)E/T\\uc2a4\\ud0c0\\ud544\\ub4dc\\uace0\\uc591\\uc810\", \"(1412)E/T\\uc2a4\\ud0c0\\ud544\\ub4dc\\ud558\\ub0a8\\uc810\"], \"xaxis\": \"x\", \"y\": [2837, 2508, 2505, 2373], \"yaxis\": \"y\"}, {\"alignmentgroup\": \"True\", \"hovertemplate\": \"\\uc81c\\ud488\\ud0c0\\uc785=S Type<br>\\uc9c0\\uc810=%{x}<br>\\uc218\\ub7c9(int)=%{y}<extra></extra>\", \"legendgroup\": \"S Type\", \"marker\": {\"color\": \"#00cc96\"}, \"name\": \"S Type\", \"offsetgroup\": \"S Type\", \"orientation\": \"v\", \"showlegend\": true, \"textposition\": \"auto\", \"type\": \"bar\", \"x\": [\"(150)E/T\\uad6c\\uc131\\uc810\"], \"xaxis\": \"x\", \"y\": [2174], \"yaxis\": \"y\"}],                        {\"barmode\": \"relative\", \"legend\": {\"title\": {\"text\": \"\\uc81c\\ud488\\ud0c0\\uc785\"}, \"tracegroupgap\": 0}, \"margin\": {\"t\": 60}, \"template\": {\"data\": {\"bar\": [{\"error_x\": {\"color\": \"#2a3f5f\"}, \"error_y\": {\"color\": \"#2a3f5f\"}, \"marker\": {\"line\": {\"color\": \"#E5ECF6\", \"width\": 0.5}}, \"type\": \"bar\"}], \"barpolar\": [{\"marker\": {\"line\": {\"color\": \"#E5ECF6\", \"width\": 0.5}}, \"type\": \"barpolar\"}], \"carpet\": [{\"aaxis\": {\"endlinecolor\": \"#2a3f5f\", \"gridcolor\": \"white\", \"linecolor\": \"white\", \"minorgridcolor\": \"white\", \"startlinecolor\": \"#2a3f5f\"}, \"baxis\": {\"endlinecolor\": \"#2a3f5f\", \"gridcolor\": \"white\", \"linecolor\": \"white\", \"minorgridcolor\": \"white\", \"startlinecolor\": \"#2a3f5f\"}, \"type\": \"carpet\"}], \"choropleth\": [{\"colorbar\": {\"outlinewidth\": 0, \"ticks\": \"\"}, \"type\": \"choropleth\"}], \"contour\": [{\"colorbar\": {\"outlinewidth\": 0, \"ticks\": \"\"}, \"colorscale\": [[0.0, \"#0d0887\"], [0.1111111111111111, \"#46039f\"], [0.2222222222222222, \"#7201a8\"], [0.3333333333333333, \"#9c179e\"], [0.4444444444444444, \"#bd3786\"], [0.5555555555555556, \"#d8576b\"], [0.6666666666666666, \"#ed7953\"], [0.7777777777777778, \"#fb9f3a\"], [0.8888888888888888, \"#fdca26\"], [1.0, \"#f0f921\"]], \"type\": \"contour\"}], \"contourcarpet\": [{\"colorbar\": {\"outlinewidth\": 0, \"ticks\": \"\"}, \"type\": \"contourcarpet\"}], \"heatmap\": [{\"colorbar\": {\"outlinewidth\": 0, \"ticks\": \"\"}, \"colorscale\": [[0.0, \"#0d0887\"], [0.1111111111111111, \"#46039f\"], [0.2222222222222222, \"#7201a8\"], [0.3333333333333333, \"#9c179e\"], [0.4444444444444444, \"#bd3786\"], [0.5555555555555556, \"#d8576b\"], [0.6666666666666666, \"#ed7953\"], [0.7777777777777778, \"#fb9f3a\"], [0.8888888888888888, \"#fdca26\"], [1.0, \"#f0f921\"]], \"type\": \"heatmap\"}], \"heatmapgl\": [{\"colorbar\": {\"outlinewidth\": 0, \"ticks\": \"\"}, \"colorscale\": [[0.0, \"#0d0887\"], [0.1111111111111111, \"#46039f\"], [0.2222222222222222, \"#7201a8\"], [0.3333333333333333, \"#9c179e\"], [0.4444444444444444, \"#bd3786\"], [0.5555555555555556, \"#d8576b\"], [0.6666666666666666, \"#ed7953\"], [0.7777777777777778, \"#fb9f3a\"], [0.8888888888888888, \"#fdca26\"], [1.0, \"#f0f921\"]], \"type\": \"heatmapgl\"}], \"histogram\": [{\"marker\": {\"colorbar\": {\"outlinewidth\": 0, \"ticks\": \"\"}}, \"type\": \"histogram\"}], \"histogram2d\": [{\"colorbar\": {\"outlinewidth\": 0, \"ticks\": \"\"}, \"colorscale\": [[0.0, \"#0d0887\"], [0.1111111111111111, \"#46039f\"], [0.2222222222222222, \"#7201a8\"], [0.3333333333333333, \"#9c179e\"], [0.4444444444444444, \"#bd3786\"], [0.5555555555555556, \"#d8576b\"], [0.6666666666666666, \"#ed7953\"], [0.7777777777777778, \"#fb9f3a\"], [0.8888888888888888, \"#fdca26\"], [1.0, \"#f0f921\"]], \"type\": \"histogram2d\"}], \"histogram2dcontour\": [{\"colorbar\": {\"outlinewidth\": 0, \"ticks\": \"\"}, \"colorscale\": [[0.0, \"#0d0887\"], [0.1111111111111111, \"#46039f\"], [0.2222222222222222, \"#7201a8\"], [0.3333333333333333, \"#9c179e\"], [0.4444444444444444, \"#bd3786\"], [0.5555555555555556, \"#d8576b\"], [0.6666666666666666, \"#ed7953\"], [0.7777777777777778, \"#fb9f3a\"], [0.8888888888888888, \"#fdca26\"], [1.0, \"#f0f921\"]], \"type\": \"histogram2dcontour\"}], \"mesh3d\": [{\"colorbar\": {\"outlinewidth\": 0, \"ticks\": \"\"}, \"type\": \"mesh3d\"}], \"parcoords\": [{\"line\": {\"colorbar\": {\"outlinewidth\": 0, \"ticks\": \"\"}}, \"type\": \"parcoords\"}], \"pie\": [{\"automargin\": true, \"type\": \"pie\"}], \"scatter\": [{\"marker\": {\"colorbar\": {\"outlinewidth\": 0, \"ticks\": \"\"}}, \"type\": \"scatter\"}], \"scatter3d\": [{\"line\": {\"colorbar\": {\"outlinewidth\": 0, \"ticks\": \"\"}}, \"marker\": {\"colorbar\": {\"outlinewidth\": 0, \"ticks\": \"\"}}, \"type\": \"scatter3d\"}], \"scattercarpet\": [{\"marker\": {\"colorbar\": {\"outlinewidth\": 0, \"ticks\": \"\"}}, \"type\": \"scattercarpet\"}], \"scattergeo\": [{\"marker\": {\"colorbar\": {\"outlinewidth\": 0, \"ticks\": \"\"}}, \"type\": \"scattergeo\"}], \"scattergl\": [{\"marker\": {\"colorbar\": {\"outlinewidth\": 0, \"ticks\": \"\"}}, \"type\": \"scattergl\"}], \"scattermapbox\": [{\"marker\": {\"colorbar\": {\"outlinewidth\": 0, \"ticks\": \"\"}}, \"type\": \"scattermapbox\"}], \"scatterpolar\": [{\"marker\": {\"colorbar\": {\"outlinewidth\": 0, \"ticks\": \"\"}}, \"type\": \"scatterpolar\"}], \"scatterpolargl\": [{\"marker\": {\"colorbar\": {\"outlinewidth\": 0, \"ticks\": \"\"}}, \"type\": \"scatterpolargl\"}], \"scatterternary\": [{\"marker\": {\"colorbar\": {\"outlinewidth\": 0, \"ticks\": \"\"}}, \"type\": \"scatterternary\"}], \"surface\": [{\"colorbar\": {\"outlinewidth\": 0, \"ticks\": \"\"}, \"colorscale\": [[0.0, \"#0d0887\"], [0.1111111111111111, \"#46039f\"], [0.2222222222222222, \"#7201a8\"], [0.3333333333333333, \"#9c179e\"], [0.4444444444444444, \"#bd3786\"], [0.5555555555555556, \"#d8576b\"], [0.6666666666666666, \"#ed7953\"], [0.7777777777777778, \"#fb9f3a\"], [0.8888888888888888, \"#fdca26\"], [1.0, \"#f0f921\"]], \"type\": \"surface\"}], \"table\": [{\"cells\": {\"fill\": {\"color\": \"#EBF0F8\"}, \"line\": {\"color\": \"white\"}}, \"header\": {\"fill\": {\"color\": \"#C8D4E3\"}, \"line\": {\"color\": \"white\"}}, \"type\": \"table\"}]}, \"layout\": {\"annotationdefaults\": {\"arrowcolor\": \"#2a3f5f\", \"arrowhead\": 0, \"arrowwidth\": 1}, \"autotypenumbers\": \"strict\", \"coloraxis\": {\"colorbar\": {\"outlinewidth\": 0, \"ticks\": \"\"}}, \"colorscale\": {\"diverging\": [[0, \"#8e0152\"], [0.1, \"#c51b7d\"], [0.2, \"#de77ae\"], [0.3, \"#f1b6da\"], [0.4, \"#fde0ef\"], [0.5, \"#f7f7f7\"], [0.6, \"#e6f5d0\"], [0.7, \"#b8e186\"], [0.8, \"#7fbc41\"], [0.9, \"#4d9221\"], [1, \"#276419\"]], \"sequential\": [[0.0, \"#0d0887\"], [0.1111111111111111, \"#46039f\"], [0.2222222222222222, \"#7201a8\"], [0.3333333333333333, \"#9c179e\"], [0.4444444444444444, \"#bd3786\"], [0.5555555555555556, \"#d8576b\"], [0.6666666666666666, \"#ed7953\"], [0.7777777777777778, \"#fb9f3a\"], [0.8888888888888888, \"#fdca26\"], [1.0, \"#f0f921\"]], \"sequentialminus\": [[0.0, \"#0d0887\"], [0.1111111111111111, \"#46039f\"], [0.2222222222222222, \"#7201a8\"], [0.3333333333333333, \"#9c179e\"], [0.4444444444444444, \"#bd3786\"], [0.5555555555555556, \"#d8576b\"], [0.6666666666666666, \"#ed7953\"], [0.7777777777777778, \"#fb9f3a\"], [0.8888888888888888, \"#fdca26\"], [1.0, \"#f0f921\"]]}, \"colorway\": [\"#636efa\", \"#EF553B\", \"#00cc96\", \"#ab63fa\", \"#FFA15A\", \"#19d3f3\", \"#FF6692\", \"#B6E880\", \"#FF97FF\", \"#FECB52\"], \"font\": {\"color\": \"#2a3f5f\"}, \"geo\": {\"bgcolor\": \"white\", \"lakecolor\": \"white\", \"landcolor\": \"#E5ECF6\", \"showlakes\": true, \"showland\": true, \"subunitcolor\": \"white\"}, \"hoverlabel\": {\"align\": \"left\"}, \"hovermode\": \"closest\", \"mapbox\": {\"style\": \"light\"}, \"paper_bgcolor\": \"white\", \"plot_bgcolor\": \"#E5ECF6\", \"polar\": {\"angularaxis\": {\"gridcolor\": \"white\", \"linecolor\": \"white\", \"ticks\": \"\"}, \"bgcolor\": \"#E5ECF6\", \"radialaxis\": {\"gridcolor\": \"white\", \"linecolor\": \"white\", \"ticks\": \"\"}}, \"scene\": {\"xaxis\": {\"backgroundcolor\": \"#E5ECF6\", \"gridcolor\": \"white\", \"gridwidth\": 2, \"linecolor\": \"white\", \"showbackground\": true, \"ticks\": \"\", \"zerolinecolor\": \"white\"}, \"yaxis\": {\"backgroundcolor\": \"#E5ECF6\", \"gridcolor\": \"white\", \"gridwidth\": 2, \"linecolor\": \"white\", \"showbackground\": true, \"ticks\": \"\", \"zerolinecolor\": \"white\"}, \"zaxis\": {\"backgroundcolor\": \"#E5ECF6\", \"gridcolor\": \"white\", \"gridwidth\": 2, \"linecolor\": \"white\", \"showbackground\": true, \"ticks\": \"\", \"zerolinecolor\": \"white\"}}, \"shapedefaults\": {\"line\": {\"color\": \"#2a3f5f\"}}, \"ternary\": {\"aaxis\": {\"gridcolor\": \"white\", \"linecolor\": \"white\", \"ticks\": \"\"}, \"baxis\": {\"gridcolor\": \"white\", \"linecolor\": \"white\", \"ticks\": \"\"}, \"bgcolor\": \"#E5ECF6\", \"caxis\": {\"gridcolor\": \"white\", \"linecolor\": \"white\", \"ticks\": \"\"}}, \"title\": {\"x\": 0.05}, \"xaxis\": {\"automargin\": true, \"gridcolor\": \"white\", \"linecolor\": \"white\", \"ticks\": \"\", \"title\": {\"standoff\": 15}, \"zerolinecolor\": \"white\", \"zerolinewidth\": 2}, \"yaxis\": {\"automargin\": true, \"gridcolor\": \"white\", \"linecolor\": \"white\", \"ticks\": \"\", \"title\": {\"standoff\": 15}, \"zerolinecolor\": \"white\", \"zerolinewidth\": 2}}}, \"xaxis\": {\"anchor\": \"y\", \"domain\": [0.0, 1.0], \"title\": {\"text\": \"\\uc9c0\\uc810\"}}, \"yaxis\": {\"anchor\": \"x\", \"domain\": [0.0, 1.0], \"title\": {\"text\": \"\\uc218\\ub7c9(int)\"}}},                        {\"responsive\": true}                    ).then(function(){\n",
       "                            \n",
       "var gd = document.getElementById('b8e267ba-312e-43ee-9263-b739ac26b03a');\n",
       "var x = new MutationObserver(function (mutations, observer) {{\n",
       "        var display = window.getComputedStyle(gd).display;\n",
       "        if (!display || display === 'none') {{\n",
       "            console.log([gd, 'removed!']);\n",
       "            Plotly.purge(gd);\n",
       "            observer.disconnect();\n",
       "        }}\n",
       "}});\n",
       "\n",
       "// Listen for the removal of the full notebook cells\n",
       "var notebookContainer = gd.closest('#notebook-container');\n",
       "if (notebookContainer) {{\n",
       "    x.observe(notebookContainer, {childList: true});\n",
       "}}\n",
       "\n",
       "// Listen for the clearing of the current output cell\n",
       "var outputEl = gd.closest('.output');\n",
       "if (outputEl) {{\n",
       "    x.observe(outputEl, {childList: true});\n",
       "}}\n",
       "\n",
       "                        })                };                });            </script>        </div>"
      ]
     },
     "metadata": {},
     "output_type": "display_data"
    }
   ],
   "source": [
    "fig = px.bar(df6, x=\"지점\", y=\"수량(int)\", color=\"제품타입\")\n",
    "fig.show()"
   ]
  }
 ],
 "metadata": {
  "kernelspec": {
   "display_name": "Python 3",
   "language": "python",
   "name": "python3"
  },
  "language_info": {
   "codemirror_mode": {
    "name": "ipython",
    "version": 3
   },
   "file_extension": ".py",
   "mimetype": "text/x-python",
   "name": "python",
   "nbconvert_exporter": "python",
   "pygments_lexer": "ipython3",
   "version": "3.8.5"
  }
 },
 "nbformat": 4,
 "nbformat_minor": 4
}
